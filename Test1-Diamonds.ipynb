{
 "cells": [
  {
   "cell_type": "code",
   "execution_count": 1,
   "metadata": {},
   "outputs": [],
   "source": [
    "import pandas as pd\n",
    "import seaborn as sns\n",
    "import numpy as np\n",
    "import matplotlib.pyplot as plt\n",
    "from sklearn.model_selection import train_test_split\n",
    "from sklearn.preprocessing import StandardScaler\n",
    "from sklearn import svm, tree\n",
    "from sklearn.ensemble import RandomForestClassifier,GradientBoostingClassifier,RandomForestRegressor,GradientBoostingRegressor\n",
    "from sklearn.calibration import CalibratedClassifierCV\n",
    "from sklearn.svm import LinearSVC\n",
    "from sklearn.neighbors import KNeighborsRegressor\n",
    "from sklearn.metrics import mean_squared_error,r2_score\n",
    "from sklearn.model_selection import cross_val_score"
   ]
  },
  {
   "cell_type": "code",
   "execution_count": 2,
   "metadata": {},
   "outputs": [
    {
     "data": {
      "text/html": [
       "<div>\n",
       "<style scoped>\n",
       "    .dataframe tbody tr th:only-of-type {\n",
       "        vertical-align: middle;\n",
       "    }\n",
       "\n",
       "    .dataframe tbody tr th {\n",
       "        vertical-align: top;\n",
       "    }\n",
       "\n",
       "    .dataframe thead th {\n",
       "        text-align: right;\n",
       "    }\n",
       "</style>\n",
       "<table border=\"1\" class=\"dataframe\">\n",
       "  <thead>\n",
       "    <tr style=\"text-align: right;\">\n",
       "      <th></th>\n",
       "      <th>Unnamed: 0</th>\n",
       "      <th>carat</th>\n",
       "      <th>cut</th>\n",
       "      <th>color</th>\n",
       "      <th>clarity</th>\n",
       "      <th>depth</th>\n",
       "      <th>table</th>\n",
       "      <th>x</th>\n",
       "      <th>y</th>\n",
       "      <th>z</th>\n",
       "      <th>price</th>\n",
       "    </tr>\n",
       "  </thead>\n",
       "  <tbody>\n",
       "    <tr>\n",
       "      <th>0</th>\n",
       "      <td>0</td>\n",
       "      <td>1.21</td>\n",
       "      <td>Ideal</td>\n",
       "      <td>H</td>\n",
       "      <td>VS2</td>\n",
       "      <td>63.0</td>\n",
       "      <td>57.0</td>\n",
       "      <td>6.73</td>\n",
       "      <td>6.70</td>\n",
       "      <td>4.23</td>\n",
       "      <td>6134</td>\n",
       "    </tr>\n",
       "    <tr>\n",
       "      <th>1</th>\n",
       "      <td>1</td>\n",
       "      <td>0.28</td>\n",
       "      <td>Very Good</td>\n",
       "      <td>D</td>\n",
       "      <td>VVS2</td>\n",
       "      <td>64.0</td>\n",
       "      <td>56.0</td>\n",
       "      <td>4.14</td>\n",
       "      <td>4.17</td>\n",
       "      <td>2.66</td>\n",
       "      <td>532</td>\n",
       "    </tr>\n",
       "    <tr>\n",
       "      <th>2</th>\n",
       "      <td>2</td>\n",
       "      <td>0.42</td>\n",
       "      <td>Premium</td>\n",
       "      <td>F</td>\n",
       "      <td>VS1</td>\n",
       "      <td>61.2</td>\n",
       "      <td>58.0</td>\n",
       "      <td>4.86</td>\n",
       "      <td>4.82</td>\n",
       "      <td>2.96</td>\n",
       "      <td>1103</td>\n",
       "    </tr>\n",
       "    <tr>\n",
       "      <th>3</th>\n",
       "      <td>3</td>\n",
       "      <td>0.26</td>\n",
       "      <td>Ideal</td>\n",
       "      <td>H</td>\n",
       "      <td>IF</td>\n",
       "      <td>61.1</td>\n",
       "      <td>57.0</td>\n",
       "      <td>4.16</td>\n",
       "      <td>4.12</td>\n",
       "      <td>2.53</td>\n",
       "      <td>600</td>\n",
       "    </tr>\n",
       "    <tr>\n",
       "      <th>4</th>\n",
       "      <td>4</td>\n",
       "      <td>1.10</td>\n",
       "      <td>Good</td>\n",
       "      <td>G</td>\n",
       "      <td>SI1</td>\n",
       "      <td>63.4</td>\n",
       "      <td>57.0</td>\n",
       "      <td>6.52</td>\n",
       "      <td>6.55</td>\n",
       "      <td>4.14</td>\n",
       "      <td>4997</td>\n",
       "    </tr>\n",
       "  </tbody>\n",
       "</table>\n",
       "</div>"
      ],
      "text/plain": [
       "   Unnamed: 0  carat        cut color clarity  depth  table     x     y     z  \\\n",
       "0           0   1.21      Ideal     H     VS2   63.0   57.0  6.73  6.70  4.23   \n",
       "1           1   0.28  Very Good     D    VVS2   64.0   56.0  4.14  4.17  2.66   \n",
       "2           2   0.42    Premium     F     VS1   61.2   58.0  4.86  4.82  2.96   \n",
       "3           3   0.26      Ideal     H      IF   61.1   57.0  4.16  4.12  2.53   \n",
       "4           4   1.10       Good     G     SI1   63.4   57.0  6.52  6.55  4.14   \n",
       "\n",
       "   price  \n",
       "0   6134  \n",
       "1    532  \n",
       "2   1103  \n",
       "3    600  \n",
       "4   4997  "
      ]
     },
     "execution_count": 2,
     "metadata": {},
     "output_type": "execute_result"
    }
   ],
   "source": [
    "diamonds_data = pd.read_csv(\"../input_diamonds/diamonds_train.csv\")\n",
    "diamonds_data.head()"
   ]
  },
  {
   "cell_type": "code",
   "execution_count": 3,
   "metadata": {},
   "outputs": [],
   "source": [
    "diamonds_data.drop(columns=\"Unnamed: 0\",inplace=True ,axis=1)"
   ]
  },
  {
   "cell_type": "code",
   "execution_count": 4,
   "metadata": {},
   "outputs": [
    {
     "name": "stdout",
     "output_type": "stream",
     "text": [
      "<class 'pandas.core.frame.DataFrame'>\n",
      "RangeIndex: 40345 entries, 0 to 40344\n",
      "Data columns (total 10 columns):\n",
      " #   Column   Non-Null Count  Dtype  \n",
      "---  ------   --------------  -----  \n",
      " 0   carat    40345 non-null  float64\n",
      " 1   cut      40345 non-null  object \n",
      " 2   color    40345 non-null  object \n",
      " 3   clarity  40345 non-null  object \n",
      " 4   depth    40345 non-null  float64\n",
      " 5   table    40345 non-null  float64\n",
      " 6   x        40345 non-null  float64\n",
      " 7   y        40345 non-null  float64\n",
      " 8   z        40345 non-null  float64\n",
      " 9   price    40345 non-null  int64  \n",
      "dtypes: float64(6), int64(1), object(3)\n",
      "memory usage: 3.1+ MB\n"
     ]
    }
   ],
   "source": [
    "diamonds_data.info() #there is no missing data"
   ]
  },
  {
   "cell_type": "markdown",
   "metadata": {},
   "source": [
    "**Convert Categorial columns to numeric:**"
   ]
  },
  {
   "cell_type": "code",
   "execution_count": 5,
   "metadata": {},
   "outputs": [
    {
     "data": {
      "text/plain": [
       "['Ideal', 'Very Good', 'Premium', 'Good', 'Fair']"
      ]
     },
     "execution_count": 5,
     "metadata": {},
     "output_type": "execute_result"
    }
   ],
   "source": [
    "cut_list=list(diamonds_data.cut.unique())\n",
    "cut_list"
   ]
  },
  {
   "cell_type": "code",
   "execution_count": 6,
   "metadata": {},
   "outputs": [
    {
     "data": {
      "text/plain": [
       "0    16090\n",
       "2    10339\n",
       "1     9036\n",
       "3     3694\n",
       "4     1186\n",
       "Name: cut, dtype: int64"
      ]
     },
     "execution_count": 6,
     "metadata": {},
     "output_type": "execute_result"
    }
   ],
   "source": [
    "diamonds_data[\"cut\"]=pd.Categorical(diamonds_data[\"cut\"],ordered=True,categories=cut_list)\n",
    "diamonds_data[\"cut\"]=diamonds_data[\"cut\"].cat.codes\n",
    "diamonds_data[\"cut\"].value_counts()"
   ]
  },
  {
   "cell_type": "code",
   "execution_count": 7,
   "metadata": {},
   "outputs": [
    {
     "data": {
      "text/plain": [
       "['H', 'D', 'F', 'G', 'I', 'E', 'J']"
      ]
     },
     "execution_count": 7,
     "metadata": {},
     "output_type": "execute_result"
    }
   ],
   "source": [
    "color_list=list(diamonds_data.color.unique())\n",
    "color_list"
   ]
  },
  {
   "cell_type": "code",
   "execution_count": 8,
   "metadata": {},
   "outputs": [
    {
     "data": {
      "text/plain": [
       "3    8499\n",
       "5    7351\n",
       "2    7130\n",
       "0    6234\n",
       "1    5074\n",
       "4    4023\n",
       "6    2034\n",
       "Name: color, dtype: int64"
      ]
     },
     "execution_count": 8,
     "metadata": {},
     "output_type": "execute_result"
    }
   ],
   "source": [
    "diamonds_data[\"color\"]=pd.Categorical(diamonds_data[\"color\"],ordered=True,categories=color_list)\n",
    "diamonds_data[\"color\"]=diamonds_data[\"color\"].cat.codes\n",
    "diamonds_data[\"color\"].value_counts()"
   ]
  },
  {
   "cell_type": "code",
   "execution_count": 9,
   "metadata": {},
   "outputs": [
    {
     "data": {
      "text/plain": [
       "['VS2', 'VVS2', 'VS1', 'IF', 'SI1', 'SI2', 'VVS1', 'I1']"
      ]
     },
     "execution_count": 9,
     "metadata": {},
     "output_type": "execute_result"
    }
   ],
   "source": [
    "clarity_list=list(diamonds_data.clarity.unique())\n",
    "clarity_list"
   ]
  },
  {
   "cell_type": "code",
   "execution_count": 10,
   "metadata": {},
   "outputs": [
    {
     "data": {
      "text/plain": [
       "4    9751\n",
       "0    9178\n",
       "5    6828\n",
       "2    6101\n",
       "1    3858\n",
       "6    2714\n",
       "3    1362\n",
       "7     553\n",
       "Name: clarity, dtype: int64"
      ]
     },
     "execution_count": 10,
     "metadata": {},
     "output_type": "execute_result"
    }
   ],
   "source": [
    "diamonds_data[\"clarity\"]=pd.Categorical(diamonds_data[\"clarity\"],ordered=True,categories=clarity_list)\n",
    "diamonds_data[\"clarity\"]=diamonds_data[\"clarity\"].cat.codes\n",
    "diamonds_data[\"clarity\"].value_counts()"
   ]
  },
  {
   "cell_type": "code",
   "execution_count": 11,
   "metadata": {},
   "outputs": [
    {
     "data": {
      "text/html": [
       "<div>\n",
       "<style scoped>\n",
       "    .dataframe tbody tr th:only-of-type {\n",
       "        vertical-align: middle;\n",
       "    }\n",
       "\n",
       "    .dataframe tbody tr th {\n",
       "        vertical-align: top;\n",
       "    }\n",
       "\n",
       "    .dataframe thead th {\n",
       "        text-align: right;\n",
       "    }\n",
       "</style>\n",
       "<table border=\"1\" class=\"dataframe\">\n",
       "  <thead>\n",
       "    <tr style=\"text-align: right;\">\n",
       "      <th></th>\n",
       "      <th>carat</th>\n",
       "      <th>cut</th>\n",
       "      <th>color</th>\n",
       "      <th>clarity</th>\n",
       "      <th>depth</th>\n",
       "      <th>table</th>\n",
       "      <th>x</th>\n",
       "      <th>y</th>\n",
       "      <th>z</th>\n",
       "      <th>price</th>\n",
       "    </tr>\n",
       "  </thead>\n",
       "  <tbody>\n",
       "    <tr>\n",
       "      <th>0</th>\n",
       "      <td>1.21</td>\n",
       "      <td>0</td>\n",
       "      <td>0</td>\n",
       "      <td>0</td>\n",
       "      <td>63.0</td>\n",
       "      <td>57.0</td>\n",
       "      <td>6.73</td>\n",
       "      <td>6.70</td>\n",
       "      <td>4.23</td>\n",
       "      <td>6134</td>\n",
       "    </tr>\n",
       "    <tr>\n",
       "      <th>1</th>\n",
       "      <td>0.28</td>\n",
       "      <td>1</td>\n",
       "      <td>1</td>\n",
       "      <td>1</td>\n",
       "      <td>64.0</td>\n",
       "      <td>56.0</td>\n",
       "      <td>4.14</td>\n",
       "      <td>4.17</td>\n",
       "      <td>2.66</td>\n",
       "      <td>532</td>\n",
       "    </tr>\n",
       "    <tr>\n",
       "      <th>2</th>\n",
       "      <td>0.42</td>\n",
       "      <td>2</td>\n",
       "      <td>2</td>\n",
       "      <td>2</td>\n",
       "      <td>61.2</td>\n",
       "      <td>58.0</td>\n",
       "      <td>4.86</td>\n",
       "      <td>4.82</td>\n",
       "      <td>2.96</td>\n",
       "      <td>1103</td>\n",
       "    </tr>\n",
       "    <tr>\n",
       "      <th>3</th>\n",
       "      <td>0.26</td>\n",
       "      <td>0</td>\n",
       "      <td>0</td>\n",
       "      <td>3</td>\n",
       "      <td>61.1</td>\n",
       "      <td>57.0</td>\n",
       "      <td>4.16</td>\n",
       "      <td>4.12</td>\n",
       "      <td>2.53</td>\n",
       "      <td>600</td>\n",
       "    </tr>\n",
       "    <tr>\n",
       "      <th>4</th>\n",
       "      <td>1.10</td>\n",
       "      <td>3</td>\n",
       "      <td>3</td>\n",
       "      <td>4</td>\n",
       "      <td>63.4</td>\n",
       "      <td>57.0</td>\n",
       "      <td>6.52</td>\n",
       "      <td>6.55</td>\n",
       "      <td>4.14</td>\n",
       "      <td>4997</td>\n",
       "    </tr>\n",
       "  </tbody>\n",
       "</table>\n",
       "</div>"
      ],
      "text/plain": [
       "   carat  cut  color  clarity  depth  table     x     y     z  price\n",
       "0   1.21    0      0        0   63.0   57.0  6.73  6.70  4.23   6134\n",
       "1   0.28    1      1        1   64.0   56.0  4.14  4.17  2.66    532\n",
       "2   0.42    2      2        2   61.2   58.0  4.86  4.82  2.96   1103\n",
       "3   0.26    0      0        3   61.1   57.0  4.16  4.12  2.53    600\n",
       "4   1.10    3      3        4   63.4   57.0  6.52  6.55  4.14   4997"
      ]
     },
     "execution_count": 11,
     "metadata": {},
     "output_type": "execute_result"
    }
   ],
   "source": [
    "diamonds_data.head()"
   ]
  },
  {
   "cell_type": "markdown",
   "metadata": {},
   "source": [
    "**Try to find outliers:**"
   ]
  },
  {
   "cell_type": "code",
   "execution_count": 12,
   "metadata": {},
   "outputs": [
    {
     "data": {
      "text/html": [
       "<div>\n",
       "<style scoped>\n",
       "    .dataframe tbody tr th:only-of-type {\n",
       "        vertical-align: middle;\n",
       "    }\n",
       "\n",
       "    .dataframe tbody tr th {\n",
       "        vertical-align: top;\n",
       "    }\n",
       "\n",
       "    .dataframe thead th {\n",
       "        text-align: right;\n",
       "    }\n",
       "</style>\n",
       "<table border=\"1\" class=\"dataframe\">\n",
       "  <thead>\n",
       "    <tr style=\"text-align: right;\">\n",
       "      <th></th>\n",
       "      <th>carat</th>\n",
       "      <th>cut</th>\n",
       "      <th>color</th>\n",
       "      <th>clarity</th>\n",
       "      <th>depth</th>\n",
       "      <th>table</th>\n",
       "      <th>x</th>\n",
       "      <th>y</th>\n",
       "      <th>z</th>\n",
       "      <th>price</th>\n",
       "    </tr>\n",
       "  </thead>\n",
       "  <tbody>\n",
       "    <tr>\n",
       "      <th>count</th>\n",
       "      <td>40345.000000</td>\n",
       "      <td>40345.000000</td>\n",
       "      <td>40345.000000</td>\n",
       "      <td>40345.000000</td>\n",
       "      <td>40345.000000</td>\n",
       "      <td>40345.000000</td>\n",
       "      <td>40345.000000</td>\n",
       "      <td>40345.000000</td>\n",
       "      <td>40345.000000</td>\n",
       "      <td>40345.000000</td>\n",
       "    </tr>\n",
       "    <tr>\n",
       "      <th>mean</th>\n",
       "      <td>0.795652</td>\n",
       "      <td>1.128764</td>\n",
       "      <td>2.723559</td>\n",
       "      <td>2.811873</td>\n",
       "      <td>61.750413</td>\n",
       "      <td>57.460302</td>\n",
       "      <td>5.726106</td>\n",
       "      <td>5.730217</td>\n",
       "      <td>3.535136</td>\n",
       "      <td>3924.089924</td>\n",
       "    </tr>\n",
       "    <tr>\n",
       "      <th>std</th>\n",
       "      <td>0.470806</td>\n",
       "      <td>1.126648</td>\n",
       "      <td>1.810074</td>\n",
       "      <td>2.071042</td>\n",
       "      <td>1.424219</td>\n",
       "      <td>2.235333</td>\n",
       "      <td>1.118690</td>\n",
       "      <td>1.148584</td>\n",
       "      <td>0.693662</td>\n",
       "      <td>3982.000515</td>\n",
       "    </tr>\n",
       "    <tr>\n",
       "      <th>min</th>\n",
       "      <td>0.200000</td>\n",
       "      <td>0.000000</td>\n",
       "      <td>0.000000</td>\n",
       "      <td>0.000000</td>\n",
       "      <td>43.000000</td>\n",
       "      <td>43.000000</td>\n",
       "      <td>0.000000</td>\n",
       "      <td>0.000000</td>\n",
       "      <td>0.000000</td>\n",
       "      <td>326.000000</td>\n",
       "    </tr>\n",
       "    <tr>\n",
       "      <th>25%</th>\n",
       "      <td>0.400000</td>\n",
       "      <td>0.000000</td>\n",
       "      <td>1.000000</td>\n",
       "      <td>1.000000</td>\n",
       "      <td>61.000000</td>\n",
       "      <td>56.000000</td>\n",
       "      <td>4.710000</td>\n",
       "      <td>4.720000</td>\n",
       "      <td>2.910000</td>\n",
       "      <td>948.000000</td>\n",
       "    </tr>\n",
       "    <tr>\n",
       "      <th>50%</th>\n",
       "      <td>0.700000</td>\n",
       "      <td>1.000000</td>\n",
       "      <td>3.000000</td>\n",
       "      <td>3.000000</td>\n",
       "      <td>61.800000</td>\n",
       "      <td>57.000000</td>\n",
       "      <td>5.690000</td>\n",
       "      <td>5.710000</td>\n",
       "      <td>3.520000</td>\n",
       "      <td>2395.000000</td>\n",
       "    </tr>\n",
       "    <tr>\n",
       "      <th>75%</th>\n",
       "      <td>1.040000</td>\n",
       "      <td>2.000000</td>\n",
       "      <td>4.000000</td>\n",
       "      <td>5.000000</td>\n",
       "      <td>62.500000</td>\n",
       "      <td>59.000000</td>\n",
       "      <td>6.540000</td>\n",
       "      <td>6.530000</td>\n",
       "      <td>4.030000</td>\n",
       "      <td>5313.000000</td>\n",
       "    </tr>\n",
       "    <tr>\n",
       "      <th>max</th>\n",
       "      <td>4.010000</td>\n",
       "      <td>4.000000</td>\n",
       "      <td>6.000000</td>\n",
       "      <td>7.000000</td>\n",
       "      <td>79.000000</td>\n",
       "      <td>95.000000</td>\n",
       "      <td>10.020000</td>\n",
       "      <td>58.900000</td>\n",
       "      <td>8.060000</td>\n",
       "      <td>18818.000000</td>\n",
       "    </tr>\n",
       "  </tbody>\n",
       "</table>\n",
       "</div>"
      ],
      "text/plain": [
       "              carat           cut         color       clarity         depth  \\\n",
       "count  40345.000000  40345.000000  40345.000000  40345.000000  40345.000000   \n",
       "mean       0.795652      1.128764      2.723559      2.811873     61.750413   \n",
       "std        0.470806      1.126648      1.810074      2.071042      1.424219   \n",
       "min        0.200000      0.000000      0.000000      0.000000     43.000000   \n",
       "25%        0.400000      0.000000      1.000000      1.000000     61.000000   \n",
       "50%        0.700000      1.000000      3.000000      3.000000     61.800000   \n",
       "75%        1.040000      2.000000      4.000000      5.000000     62.500000   \n",
       "max        4.010000      4.000000      6.000000      7.000000     79.000000   \n",
       "\n",
       "              table             x             y             z         price  \n",
       "count  40345.000000  40345.000000  40345.000000  40345.000000  40345.000000  \n",
       "mean      57.460302      5.726106      5.730217      3.535136   3924.089924  \n",
       "std        2.235333      1.118690      1.148584      0.693662   3982.000515  \n",
       "min       43.000000      0.000000      0.000000      0.000000    326.000000  \n",
       "25%       56.000000      4.710000      4.720000      2.910000    948.000000  \n",
       "50%       57.000000      5.690000      5.710000      3.520000   2395.000000  \n",
       "75%       59.000000      6.540000      6.530000      4.030000   5313.000000  \n",
       "max       95.000000     10.020000     58.900000      8.060000  18818.000000  "
      ]
     },
     "execution_count": 12,
     "metadata": {},
     "output_type": "execute_result"
    }
   ],
   "source": [
    "diamonds_data.describe()"
   ]
  },
  {
   "cell_type": "code",
   "execution_count": 13,
   "metadata": {
    "scrolled": false
   },
   "outputs": [
    {
     "data": {
      "text/plain": [
       "<matplotlib.axes._subplots.AxesSubplot at 0x12c92dcd0>"
      ]
     },
     "execution_count": 13,
     "metadata": {},
     "output_type": "execute_result"
    },
    {
     "data": {
      "image/png": "[encoded data removed]",
      "text/plain": [
       "<Figure size 432x288 with 1 Axes>"
      ]
     },
     "metadata": {
      "needs_background": "light"
     },
     "output_type": "display_data"
    },
    {
     "data": {
      "image/png": "[encoded data removed]",
      "text/plain": [
       "<Figure size 432x288 with 1 Axes>"
      ]
     },
     "metadata": {
      "needs_background": "light"
     },
     "output_type": "display_data"
    },
    {
     "data": {
      "image/png": "[encoded data removed]",
      "text/plain": [
       "<Figure size 432x288 with 1 Axes>"
      ]
     },
     "metadata": {
      "needs_background": "light"
     },
     "output_type": "display_data"
    },
    {
     "data": {
      "image/png": "[encoded data removed]",
      "text/plain": [
       "<Figure size 432x288 with 1 Axes>"
      ]
     },
     "metadata": {
      "needs_background": "light"
     },
     "output_type": "display_data"
    },
    {
     "data": {
      "image/png": "[encoded data removed]",
      "text/plain": [
       "<Figure size 432x288 with 1 Axes>"
      ]
     },
     "metadata": {
      "needs_background": "light"
     },
     "output_type": "display_data"
    },
    {
     "data": {
      "image/png": "[encoded data removed]",
      "text/plain": [
       "<Figure size 432x288 with 1 Axes>"
      ]
     },
     "metadata": {
      "needs_background": "light"
     },
     "output_type": "display_data"
    }
   ],
   "source": [
    "diamonds_data.boxplot(column=\"carat\")\n",
    "plt.figure()\n",
    "diamonds_data.boxplot(column=\"depth\")\n",
    "plt.figure()\n",
    "diamonds_data.boxplot(column=\"table\")\n",
    "plt.figure()\n",
    "diamonds_data.boxplot(column=\"x\")\n",
    "plt.figure()\n",
    "diamonds_data.boxplot(column=\"y\")\n",
    "plt.figure()\n",
    "diamonds_data.boxplot(column=\"z\")"
   ]
  },
  {
   "cell_type": "markdown",
   "metadata": {},
   "source": [
    "**Correlation between columns:**"
   ]
  },
  {
   "cell_type": "code",
   "execution_count": 14,
   "metadata": {},
   "outputs": [
    {
     "data": {
      "text/html": [
       "<style  type=\"text/css\" >\n",
       "    #T_a369de7c_91e7_11ea_ba95_acde48001122row0_col0 {\n",
       "            background-color:  #b40426;\n",
       "            color:  #f1f1f1;\n",
       "        }    #T_a369de7c_91e7_11ea_ba95_acde48001122row0_col1 {\n",
       "            background-color:  #7396f5;\n",
       "            color:  #000000;\n",
       "        }    #T_a369de7c_91e7_11ea_ba95_acde48001122row0_col2 {\n",
       "            background-color:  #4e68d8;\n",
       "            color:  #000000;\n",
       "        }    #T_a369de7c_91e7_11ea_ba95_acde48001122row0_col3 {\n",
       "            background-color:  #7597f6;\n",
       "            color:  #000000;\n",
       "        }    #T_a369de7c_91e7_11ea_ba95_acde48001122row0_col4 {\n",
       "            background-color:  #8caffe;\n",
       "            color:  #000000;\n",
       "        }    #T_a369de7c_91e7_11ea_ba95_acde48001122row0_col5 {\n",
       "            background-color:  #b5cdfa;\n",
       "            color:  #000000;\n",
       "        }    #T_a369de7c_91e7_11ea_ba95_acde48001122row0_col6 {\n",
       "            background-color:  #bd1f2d;\n",
       "            color:  #f1f1f1;\n",
       "        }    #T_a369de7c_91e7_11ea_ba95_acde48001122row0_col7 {\n",
       "            background-color:  #c73635;\n",
       "            color:  #f1f1f1;\n",
       "        }    #T_a369de7c_91e7_11ea_ba95_acde48001122row0_col8 {\n",
       "            background-color:  #c0282f;\n",
       "            color:  #f1f1f1;\n",
       "        }    #T_a369de7c_91e7_11ea_ba95_acde48001122row0_col9 {\n",
       "            background-color:  #cf453c;\n",
       "            color:  #f1f1f1;\n",
       "        }    #T_a369de7c_91e7_11ea_ba95_acde48001122row1_col0 {\n",
       "            background-color:  #6b8df0;\n",
       "            color:  #000000;\n",
       "        }    #T_a369de7c_91e7_11ea_ba95_acde48001122row1_col1 {\n",
       "            background-color:  #b40426;\n",
       "            color:  #f1f1f1;\n",
       "        }    #T_a369de7c_91e7_11ea_ba95_acde48001122row1_col2 {\n",
       "            background-color:  #455cce;\n",
       "            color:  #f1f1f1;\n",
       "        }    #T_a369de7c_91e7_11ea_ba95_acde48001122row1_col3 {\n",
       "            background-color:  #6384eb;\n",
       "            color:  #000000;\n",
       "        }    #T_a369de7c_91e7_11ea_ba95_acde48001122row1_col4 {\n",
       "            background-color:  #a7c5fe;\n",
       "            color:  #000000;\n",
       "        }    #T_a369de7c_91e7_11ea_ba95_acde48001122row1_col5 {\n",
       "            background-color:  #f4c5ad;\n",
       "            color:  #000000;\n",
       "        }    #T_a369de7c_91e7_11ea_ba95_acde48001122row1_col6 {\n",
       "            background-color:  #779af7;\n",
       "            color:  #000000;\n",
       "        }    #T_a369de7c_91e7_11ea_ba95_acde48001122row1_col7 {\n",
       "            background-color:  #7396f5;\n",
       "            color:  #000000;\n",
       "        }    #T_a369de7c_91e7_11ea_ba95_acde48001122row1_col8 {\n",
       "            background-color:  #6e90f2;\n",
       "            color:  #000000;\n",
       "        }    #T_a369de7c_91e7_11ea_ba95_acde48001122row1_col9 {\n",
       "            background-color:  #5875e1;\n",
       "            color:  #000000;\n",
       "        }    #T_a369de7c_91e7_11ea_ba95_acde48001122row2_col0 {\n",
       "            background-color:  #3b4cc0;\n",
       "            color:  #f1f1f1;\n",
       "        }    #T_a369de7c_91e7_11ea_ba95_acde48001122row2_col1 {\n",
       "            background-color:  #3b4cc0;\n",
       "            color:  #f1f1f1;\n",
       "        }    #T_a369de7c_91e7_11ea_ba95_acde48001122row2_col2 {\n",
       "            background-color:  #b40426;\n",
       "            color:  #f1f1f1;\n",
       "        }    #T_a369de7c_91e7_11ea_ba95_acde48001122row2_col3 {\n",
       "            background-color:  #3b4cc0;\n",
       "            color:  #f1f1f1;\n",
       "        }    #T_a369de7c_91e7_11ea_ba95_acde48001122row2_col4 {\n",
       "            background-color:  #81a4fb;\n",
       "            color:  #000000;\n",
       "        }    #T_a369de7c_91e7_11ea_ba95_acde48001122row2_col5 {\n",
       "            background-color:  #86a9fc;\n",
       "            color:  #000000;\n",
       "        }    #T_a369de7c_91e7_11ea_ba95_acde48001122row2_col6 {\n",
       "            background-color:  #465ecf;\n",
       "            color:  #f1f1f1;\n",
       "        }    #T_a369de7c_91e7_11ea_ba95_acde48001122row2_col7 {\n",
       "            background-color:  #485fd1;\n",
       "            color:  #f1f1f1;\n",
       "        }    #T_a369de7c_91e7_11ea_ba95_acde48001122row2_col8 {\n",
       "            background-color:  #3b4cc0;\n",
       "            color:  #f1f1f1;\n",
       "        }    #T_a369de7c_91e7_11ea_ba95_acde48001122row2_col9 {\n",
       "            background-color:  #3d50c3;\n",
       "            color:  #f1f1f1;\n",
       "        }    #T_a369de7c_91e7_11ea_ba95_acde48001122row3_col0 {\n",
       "            background-color:  #6282ea;\n",
       "            color:  #000000;\n",
       "        }    #T_a369de7c_91e7_11ea_ba95_acde48001122row3_col1 {\n",
       "            background-color:  #5875e1;\n",
       "            color:  #000000;\n",
       "        }    #T_a369de7c_91e7_11ea_ba95_acde48001122row3_col2 {\n",
       "            background-color:  #3b4cc0;\n",
       "            color:  #f1f1f1;\n",
       "        }    #T_a369de7c_91e7_11ea_ba95_acde48001122row3_col3 {\n",
       "            background-color:  #b40426;\n",
       "            color:  #f1f1f1;\n",
       "        }    #T_a369de7c_91e7_11ea_ba95_acde48001122row3_col4 {\n",
       "            background-color:  #8fb1fe;\n",
       "            color:  #000000;\n",
       "        }    #T_a369de7c_91e7_11ea_ba95_acde48001122row3_col5 {\n",
       "            background-color:  #93b5fe;\n",
       "            color:  #000000;\n",
       "        }    #T_a369de7c_91e7_11ea_ba95_acde48001122row3_col6 {\n",
       "            background-color:  #6f92f3;\n",
       "            color:  #000000;\n",
       "        }    #T_a369de7c_91e7_11ea_ba95_acde48001122row3_col7 {\n",
       "            background-color:  #6e90f2;\n",
       "            color:  #000000;\n",
       "        }    #T_a369de7c_91e7_11ea_ba95_acde48001122row3_col8 {\n",
       "            background-color:  #6384eb;\n",
       "            color:  #000000;\n",
       "        }    #T_a369de7c_91e7_11ea_ba95_acde48001122row3_col9 {\n",
       "            background-color:  #465ecf;\n",
       "            color:  #f1f1f1;\n",
       "        }    #T_a369de7c_91e7_11ea_ba95_acde48001122row4_col0 {\n",
       "            background-color:  #3c4ec2;\n",
       "            color:  #f1f1f1;\n",
       "        }    #T_a369de7c_91e7_11ea_ba95_acde48001122row4_col1 {\n",
       "            background-color:  #6485ec;\n",
       "            color:  #000000;\n",
       "        }    #T_a369de7c_91e7_11ea_ba95_acde48001122row4_col2 {\n",
       "            background-color:  #445acc;\n",
       "            color:  #f1f1f1;\n",
       "        }    #T_a369de7c_91e7_11ea_ba95_acde48001122row4_col3 {\n",
       "            background-color:  #536edd;\n",
       "            color:  #000000;\n",
       "        }    #T_a369de7c_91e7_11ea_ba95_acde48001122row4_col4 {\n",
       "            background-color:  #b40426;\n",
       "            color:  #f1f1f1;\n",
       "        }    #T_a369de7c_91e7_11ea_ba95_acde48001122row4_col5 {\n",
       "            background-color:  #3b4cc0;\n",
       "            color:  #f1f1f1;\n",
       "        }    #T_a369de7c_91e7_11ea_ba95_acde48001122row4_col6 {\n",
       "            background-color:  #3b4cc0;\n",
       "            color:  #f1f1f1;\n",
       "        }    #T_a369de7c_91e7_11ea_ba95_acde48001122row4_col7 {\n",
       "            background-color:  #3b4cc0;\n",
       "            color:  #f1f1f1;\n",
       "        }    #T_a369de7c_91e7_11ea_ba95_acde48001122row4_col8 {\n",
       "            background-color:  #536edd;\n",
       "            color:  #000000;\n",
       "        }    #T_a369de7c_91e7_11ea_ba95_acde48001122row4_col9 {\n",
       "            background-color:  #3b4cc0;\n",
       "            color:  #f1f1f1;\n",
       "        }    #T_a369de7c_91e7_11ea_ba95_acde48001122row5_col0 {\n",
       "            background-color:  #6e90f2;\n",
       "            color:  #000000;\n",
       "        }    #T_a369de7c_91e7_11ea_ba95_acde48001122row5_col1 {\n",
       "            background-color:  #e1dad6;\n",
       "            color:  #000000;\n",
       "        }    #T_a369de7c_91e7_11ea_ba95_acde48001122row5_col2 {\n",
       "            background-color:  #4a63d3;\n",
       "            color:  #f1f1f1;\n",
       "        }    #T_a369de7c_91e7_11ea_ba95_acde48001122row5_col3 {\n",
       "            background-color:  #5673e0;\n",
       "            color:  #000000;\n",
       "        }    #T_a369de7c_91e7_11ea_ba95_acde48001122row5_col4 {\n",
       "            background-color:  #3b4cc0;\n",
       "            color:  #f1f1f1;\n",
       "        }    #T_a369de7c_91e7_11ea_ba95_acde48001122row5_col5 {\n",
       "            background-color:  #b40426;\n",
       "            color:  #f1f1f1;\n",
       "        }    #T_a369de7c_91e7_11ea_ba95_acde48001122row5_col6 {\n",
       "            background-color:  #80a3fa;\n",
       "            color:  #000000;\n",
       "        }    #T_a369de7c_91e7_11ea_ba95_acde48001122row5_col7 {\n",
       "            background-color:  #7b9ff9;\n",
       "            color:  #000000;\n",
       "        }    #T_a369de7c_91e7_11ea_ba95_acde48001122row5_col8 {\n",
       "            background-color:  #6687ed;\n",
       "            color:  #000000;\n",
       "        }    #T_a369de7c_91e7_11ea_ba95_acde48001122row5_col9 {\n",
       "            background-color:  #6485ec;\n",
       "            color:  #000000;\n",
       "        }    #T_a369de7c_91e7_11ea_ba95_acde48001122row6_col0 {\n",
       "            background-color:  #bd1f2d;\n",
       "            color:  #f1f1f1;\n",
       "        }    #T_a369de7c_91e7_11ea_ba95_acde48001122row6_col1 {\n",
       "            background-color:  #7295f4;\n",
       "            color:  #000000;\n",
       "        }    #T_a369de7c_91e7_11ea_ba95_acde48001122row6_col2 {\n",
       "            background-color:  #4b64d5;\n",
       "            color:  #f1f1f1;\n",
       "        }    #T_a369de7c_91e7_11ea_ba95_acde48001122row6_col3 {\n",
       "            background-color:  #7396f5;\n",
       "            color:  #000000;\n",
       "        }    #T_a369de7c_91e7_11ea_ba95_acde48001122row6_col4 {\n",
       "            background-color:  #7da0f9;\n",
       "            color:  #000000;\n",
       "        }    #T_a369de7c_91e7_11ea_ba95_acde48001122row6_col5 {\n",
       "            background-color:  #b7cff9;\n",
       "            color:  #000000;\n",
       "        }    #T_a369de7c_91e7_11ea_ba95_acde48001122row6_col6 {\n",
       "            background-color:  #b40426;\n",
       "            color:  #f1f1f1;\n",
       "        }    #T_a369de7c_91e7_11ea_ba95_acde48001122row6_col7 {\n",
       "            background-color:  #c0282f;\n",
       "            color:  #f1f1f1;\n",
       "        }    #T_a369de7c_91e7_11ea_ba95_acde48001122row6_col8 {\n",
       "            background-color:  #b8122a;\n",
       "            color:  #f1f1f1;\n",
       "        }    #T_a369de7c_91e7_11ea_ba95_acde48001122row6_col9 {\n",
       "            background-color:  #da5a49;\n",
       "            color:  #000000;\n",
       "        }    #T_a369de7c_91e7_11ea_ba95_acde48001122row7_col0 {\n",
       "            background-color:  #c83836;\n",
       "            color:  #f1f1f1;\n",
       "        }    #T_a369de7c_91e7_11ea_ba95_acde48001122row7_col1 {\n",
       "            background-color:  #6b8df0;\n",
       "            color:  #000000;\n",
       "        }    #T_a369de7c_91e7_11ea_ba95_acde48001122row7_col2 {\n",
       "            background-color:  #4b64d5;\n",
       "            color:  #f1f1f1;\n",
       "        }    #T_a369de7c_91e7_11ea_ba95_acde48001122row7_col3 {\n",
       "            background-color:  #7295f4;\n",
       "            color:  #000000;\n",
       "        }    #T_a369de7c_91e7_11ea_ba95_acde48001122row7_col4 {\n",
       "            background-color:  #7b9ff9;\n",
       "            color:  #000000;\n",
       "        }    #T_a369de7c_91e7_11ea_ba95_acde48001122row7_col5 {\n",
       "            background-color:  #b5cdfa;\n",
       "            color:  #000000;\n",
       "        }    #T_a369de7c_91e7_11ea_ba95_acde48001122row7_col6 {\n",
       "            background-color:  #c0282f;\n",
       "            color:  #f1f1f1;\n",
       "        }    #T_a369de7c_91e7_11ea_ba95_acde48001122row7_col7 {\n",
       "            background-color:  #b40426;\n",
       "            color:  #f1f1f1;\n",
       "        }    #T_a369de7c_91e7_11ea_ba95_acde48001122row7_col8 {\n",
       "            background-color:  #c32e31;\n",
       "            color:  #f1f1f1;\n",
       "        }    #T_a369de7c_91e7_11ea_ba95_acde48001122row7_col9 {\n",
       "            background-color:  #e26952;\n",
       "            color:  #000000;\n",
       "        }    #T_a369de7c_91e7_11ea_ba95_acde48001122row8_col0 {\n",
       "            background-color:  #c0282f;\n",
       "            color:  #f1f1f1;\n",
       "        }    #T_a369de7c_91e7_11ea_ba95_acde48001122row8_col1 {\n",
       "            background-color:  #7597f6;\n",
       "            color:  #000000;\n",
       "        }    #T_a369de7c_91e7_11ea_ba95_acde48001122row8_col2 {\n",
       "            background-color:  #4b64d5;\n",
       "            color:  #f1f1f1;\n",
       "        }    #T_a369de7c_91e7_11ea_ba95_acde48001122row8_col3 {\n",
       "            background-color:  #7597f6;\n",
       "            color:  #000000;\n",
       "        }    #T_a369de7c_91e7_11ea_ba95_acde48001122row8_col4 {\n",
       "            background-color:  #9ebeff;\n",
       "            color:  #000000;\n",
       "        }    #T_a369de7c_91e7_11ea_ba95_acde48001122row8_col5 {\n",
       "            background-color:  #adc9fd;\n",
       "            color:  #000000;\n",
       "        }    #T_a369de7c_91e7_11ea_ba95_acde48001122row8_col6 {\n",
       "            background-color:  #b8122a;\n",
       "            color:  #f1f1f1;\n",
       "        }    #T_a369de7c_91e7_11ea_ba95_acde48001122row8_col7 {\n",
       "            background-color:  #c12b30;\n",
       "            color:  #f1f1f1;\n",
       "        }    #T_a369de7c_91e7_11ea_ba95_acde48001122row8_col8 {\n",
       "            background-color:  #b40426;\n",
       "            color:  #f1f1f1;\n",
       "        }    #T_a369de7c_91e7_11ea_ba95_acde48001122row8_col9 {\n",
       "            background-color:  #de614d;\n",
       "            color:  #000000;\n",
       "        }    #T_a369de7c_91e7_11ea_ba95_acde48001122row9_col0 {\n",
       "            background-color:  #d0473d;\n",
       "            color:  #f1f1f1;\n",
       "        }    #T_a369de7c_91e7_11ea_ba95_acde48001122row9_col1 {\n",
       "            background-color:  #5673e0;\n",
       "            color:  #000000;\n",
       "        }    #T_a369de7c_91e7_11ea_ba95_acde48001122row9_col2 {\n",
       "            background-color:  #465ecf;\n",
       "            color:  #f1f1f1;\n",
       "        }    #T_a369de7c_91e7_11ea_ba95_acde48001122row9_col3 {\n",
       "            background-color:  #506bda;\n",
       "            color:  #000000;\n",
       "        }    #T_a369de7c_91e7_11ea_ba95_acde48001122row9_col4 {\n",
       "            background-color:  #81a4fb;\n",
       "            color:  #000000;\n",
       "        }    #T_a369de7c_91e7_11ea_ba95_acde48001122row9_col5 {\n",
       "            background-color:  #a6c4fe;\n",
       "            color:  #000000;\n",
       "        }    #T_a369de7c_91e7_11ea_ba95_acde48001122row9_col6 {\n",
       "            background-color:  #da5a49;\n",
       "            color:  #000000;\n",
       "        }    #T_a369de7c_91e7_11ea_ba95_acde48001122row9_col7 {\n",
       "            background-color:  #e16751;\n",
       "            color:  #000000;\n",
       "        }    #T_a369de7c_91e7_11ea_ba95_acde48001122row9_col8 {\n",
       "            background-color:  #df634e;\n",
       "            color:  #000000;\n",
       "        }    #T_a369de7c_91e7_11ea_ba95_acde48001122row9_col9 {\n",
       "            background-color:  #b40426;\n",
       "            color:  #f1f1f1;\n",
       "        }</style><table id=\"T_a369de7c_91e7_11ea_ba95_acde48001122\" ><thead>    <tr>        <th class=\"blank level0\" ></th>        <th class=\"col_heading level0 col0\" >carat</th>        <th class=\"col_heading level0 col1\" >cut</th>        <th class=\"col_heading level0 col2\" >color</th>        <th class=\"col_heading level0 col3\" >clarity</th>        <th class=\"col_heading level0 col4\" >depth</th>        <th class=\"col_heading level0 col5\" >table</th>        <th class=\"col_heading level0 col6\" >x</th>        <th class=\"col_heading level0 col7\" >y</th>        <th class=\"col_heading level0 col8\" >z</th>        <th class=\"col_heading level0 col9\" >price</th>    </tr></thead><tbody>\n",
       "                <tr>\n",
       "                        <th id=\"T_a369de7c_91e7_11ea_ba95_acde48001122level0_row0\" class=\"row_heading level0 row0\" >carat</th>\n",
       "                        <td id=\"T_a369de7c_91e7_11ea_ba95_acde48001122row0_col0\" class=\"data row0 col0\" >1.000000</td>\n",
       "                        <td id=\"T_a369de7c_91e7_11ea_ba95_acde48001122row0_col1\" class=\"data row0 col1\" >0.174036</td>\n",
       "                        <td id=\"T_a369de7c_91e7_11ea_ba95_acde48001122row0_col2\" class=\"data row0 col2\" >0.024406</td>\n",
       "                        <td id=\"T_a369de7c_91e7_11ea_ba95_acde48001122row0_col3\" class=\"data row0 col3\" >0.149057</td>\n",
       "                        <td id=\"T_a369de7c_91e7_11ea_ba95_acde48001122row0_col4\" class=\"data row0 col4\" >0.029414</td>\n",
       "                        <td id=\"T_a369de7c_91e7_11ea_ba95_acde48001122row0_col5\" class=\"data row0 col5\" >0.181273</td>\n",
       "                        <td id=\"T_a369de7c_91e7_11ea_ba95_acde48001122row0_col6\" class=\"data row0 col6\" >0.975077</td>\n",
       "                        <td id=\"T_a369de7c_91e7_11ea_ba95_acde48001122row0_col7\" class=\"data row0 col7\" >0.944445</td>\n",
       "                        <td id=\"T_a369de7c_91e7_11ea_ba95_acde48001122row0_col8\" class=\"data row0 col8\" >0.967289</td>\n",
       "                        <td id=\"T_a369de7c_91e7_11ea_ba95_acde48001122row0_col9\" class=\"data row0 col9\" >0.921887</td>\n",
       "            </tr>\n",
       "            <tr>\n",
       "                        <th id=\"T_a369de7c_91e7_11ea_ba95_acde48001122level0_row1\" class=\"row_heading level0 row1\" >cut</th>\n",
       "                        <td id=\"T_a369de7c_91e7_11ea_ba95_acde48001122row1_col0\" class=\"data row1 col0\" >0.174036</td>\n",
       "                        <td id=\"T_a369de7c_91e7_11ea_ba95_acde48001122row1_col1\" class=\"data row1 col1\" >1.000000</td>\n",
       "                        <td id=\"T_a369de7c_91e7_11ea_ba95_acde48001122row1_col2\" class=\"data row1 col2\" >-0.002284</td>\n",
       "                        <td id=\"T_a369de7c_91e7_11ea_ba95_acde48001122row1_col3\" class=\"data row1 col3\" >0.093984</td>\n",
       "                        <td id=\"T_a369de7c_91e7_11ea_ba95_acde48001122row1_col4\" class=\"data row1 col4\" >0.130844</td>\n",
       "                        <td id=\"T_a369de7c_91e7_11ea_ba95_acde48001122row1_col5\" class=\"data row1 col5\" >0.515943</td>\n",
       "                        <td id=\"T_a369de7c_91e7_11ea_ba95_acde48001122row1_col6\" class=\"data row1 col6\" >0.170337</td>\n",
       "                        <td id=\"T_a369de7c_91e7_11ea_ba95_acde48001122row1_col7\" class=\"data row1 col7\" >0.153217</td>\n",
       "                        <td id=\"T_a369de7c_91e7_11ea_ba95_acde48001122row1_col8\" class=\"data row1 col8\" >0.178058</td>\n",
       "                        <td id=\"T_a369de7c_91e7_11ea_ba95_acde48001122row1_col9\" class=\"data row1 col9\" >0.087908</td>\n",
       "            </tr>\n",
       "            <tr>\n",
       "                        <th id=\"T_a369de7c_91e7_11ea_ba95_acde48001122level0_row2\" class=\"row_heading level0 row2\" >color</th>\n",
       "                        <td id=\"T_a369de7c_91e7_11ea_ba95_acde48001122row2_col0\" class=\"data row2 col0\" >0.024406</td>\n",
       "                        <td id=\"T_a369de7c_91e7_11ea_ba95_acde48001122row2_col1\" class=\"data row2 col1\" >-0.002284</td>\n",
       "                        <td id=\"T_a369de7c_91e7_11ea_ba95_acde48001122row2_col2\" class=\"data row2 col2\" >1.000000</td>\n",
       "                        <td id=\"T_a369de7c_91e7_11ea_ba95_acde48001122row2_col3\" class=\"data row2 col3\" >-0.042186</td>\n",
       "                        <td id=\"T_a369de7c_91e7_11ea_ba95_acde48001122row2_col4\" class=\"data row2 col4\" >-0.008182</td>\n",
       "                        <td id=\"T_a369de7c_91e7_11ea_ba95_acde48001122row2_col5\" class=\"data row2 col5\" >0.012969</td>\n",
       "                        <td id=\"T_a369de7c_91e7_11ea_ba95_acde48001122row2_col6\" class=\"data row2 col6\" >0.017645</td>\n",
       "                        <td id=\"T_a369de7c_91e7_11ea_ba95_acde48001122row2_col7\" class=\"data row2 col7\" >0.017463</td>\n",
       "                        <td id=\"T_a369de7c_91e7_11ea_ba95_acde48001122row2_col8\" class=\"data row2 col8\" >0.017787</td>\n",
       "                        <td id=\"T_a369de7c_91e7_11ea_ba95_acde48001122row2_col9\" class=\"data row2 col9\" >0.000333</td>\n",
       "            </tr>\n",
       "            <tr>\n",
       "                        <th id=\"T_a369de7c_91e7_11ea_ba95_acde48001122level0_row3\" class=\"row_heading level0 row3\" >clarity</th>\n",
       "                        <td id=\"T_a369de7c_91e7_11ea_ba95_acde48001122row3_col0\" class=\"data row3 col0\" >0.149057</td>\n",
       "                        <td id=\"T_a369de7c_91e7_11ea_ba95_acde48001122row3_col1\" class=\"data row3 col1\" >0.093984</td>\n",
       "                        <td id=\"T_a369de7c_91e7_11ea_ba95_acde48001122row3_col2\" class=\"data row3 col2\" >-0.042186</td>\n",
       "                        <td id=\"T_a369de7c_91e7_11ea_ba95_acde48001122row3_col3\" class=\"data row3 col3\" >1.000000</td>\n",
       "                        <td id=\"T_a369de7c_91e7_11ea_ba95_acde48001122row3_col4\" class=\"data row3 col4\" >0.040889</td>\n",
       "                        <td id=\"T_a369de7c_91e7_11ea_ba95_acde48001122row3_col5\" class=\"data row3 col5\" >0.055111</td>\n",
       "                        <td id=\"T_a369de7c_91e7_11ea_ba95_acde48001122row3_col6\" class=\"data row3 col6\" >0.145018</td>\n",
       "                        <td id=\"T_a369de7c_91e7_11ea_ba95_acde48001122row3_col7\" class=\"data row3 col7\" >0.139297</td>\n",
       "                        <td id=\"T_a369de7c_91e7_11ea_ba95_acde48001122row3_col8\" class=\"data row3 col8\" >0.146497</td>\n",
       "                        <td id=\"T_a369de7c_91e7_11ea_ba95_acde48001122row3_col9\" class=\"data row3 col9\" >0.031436</td>\n",
       "            </tr>\n",
       "            <tr>\n",
       "                        <th id=\"T_a369de7c_91e7_11ea_ba95_acde48001122level0_row4\" class=\"row_heading level0 row4\" >depth</th>\n",
       "                        <td id=\"T_a369de7c_91e7_11ea_ba95_acde48001122row4_col0\" class=\"data row4 col0\" >0.029414</td>\n",
       "                        <td id=\"T_a369de7c_91e7_11ea_ba95_acde48001122row4_col1\" class=\"data row4 col1\" >0.130844</td>\n",
       "                        <td id=\"T_a369de7c_91e7_11ea_ba95_acde48001122row4_col2\" class=\"data row4 col2\" >-0.008182</td>\n",
       "                        <td id=\"T_a369de7c_91e7_11ea_ba95_acde48001122row4_col3\" class=\"data row4 col3\" >0.040889</td>\n",
       "                        <td id=\"T_a369de7c_91e7_11ea_ba95_acde48001122row4_col4\" class=\"data row4 col4\" >1.000000</td>\n",
       "                        <td id=\"T_a369de7c_91e7_11ea_ba95_acde48001122row4_col5\" class=\"data row4 col5\" >-0.288987</td>\n",
       "                        <td id=\"T_a369de7c_91e7_11ea_ba95_acde48001122row4_col6\" class=\"data row4 col6\" >-0.023389</td>\n",
       "                        <td id=\"T_a369de7c_91e7_11ea_ba95_acde48001122row4_col7\" class=\"data row4 col7\" >-0.027880</td>\n",
       "                        <td id=\"T_a369de7c_91e7_11ea_ba95_acde48001122row4_col8\" class=\"data row4 col8\" >0.097399</td>\n",
       "                        <td id=\"T_a369de7c_91e7_11ea_ba95_acde48001122row4_col9\" class=\"data row4 col9\" >-0.009228</td>\n",
       "            </tr>\n",
       "            <tr>\n",
       "                        <th id=\"T_a369de7c_91e7_11ea_ba95_acde48001122level0_row5\" class=\"row_heading level0 row5\" >table</th>\n",
       "                        <td id=\"T_a369de7c_91e7_11ea_ba95_acde48001122row5_col0\" class=\"data row5 col0\" >0.181273</td>\n",
       "                        <td id=\"T_a369de7c_91e7_11ea_ba95_acde48001122row5_col1\" class=\"data row5 col1\" >0.515943</td>\n",
       "                        <td id=\"T_a369de7c_91e7_11ea_ba95_acde48001122row5_col2\" class=\"data row5 col2\" >0.012969</td>\n",
       "                        <td id=\"T_a369de7c_91e7_11ea_ba95_acde48001122row5_col3\" class=\"data row5 col3\" >0.055111</td>\n",
       "                        <td id=\"T_a369de7c_91e7_11ea_ba95_acde48001122row5_col4\" class=\"data row5 col4\" >-0.288987</td>\n",
       "                        <td id=\"T_a369de7c_91e7_11ea_ba95_acde48001122row5_col5\" class=\"data row5 col5\" >1.000000</td>\n",
       "                        <td id=\"T_a369de7c_91e7_11ea_ba95_acde48001122row5_col6\" class=\"data row5 col6\" >0.193986</td>\n",
       "                        <td id=\"T_a369de7c_91e7_11ea_ba95_acde48001122row5_col7\" class=\"data row5 col7\" >0.180449</td>\n",
       "                        <td id=\"T_a369de7c_91e7_11ea_ba95_acde48001122row5_col8\" class=\"data row5 col8\" >0.153175</td>\n",
       "                        <td id=\"T_a369de7c_91e7_11ea_ba95_acde48001122row5_col9\" class=\"data row5 col9\" >0.127338</td>\n",
       "            </tr>\n",
       "            <tr>\n",
       "                        <th id=\"T_a369de7c_91e7_11ea_ba95_acde48001122level0_row6\" class=\"row_heading level0 row6\" >x</th>\n",
       "                        <td id=\"T_a369de7c_91e7_11ea_ba95_acde48001122row6_col0\" class=\"data row6 col0\" >0.975077</td>\n",
       "                        <td id=\"T_a369de7c_91e7_11ea_ba95_acde48001122row6_col1\" class=\"data row6 col1\" >0.170337</td>\n",
       "                        <td id=\"T_a369de7c_91e7_11ea_ba95_acde48001122row6_col2\" class=\"data row6 col2\" >0.017645</td>\n",
       "                        <td id=\"T_a369de7c_91e7_11ea_ba95_acde48001122row6_col3\" class=\"data row6 col3\" >0.145018</td>\n",
       "                        <td id=\"T_a369de7c_91e7_11ea_ba95_acde48001122row6_col4\" class=\"data row6 col4\" >-0.023389</td>\n",
       "                        <td id=\"T_a369de7c_91e7_11ea_ba95_acde48001122row6_col5\" class=\"data row6 col5\" >0.193986</td>\n",
       "                        <td id=\"T_a369de7c_91e7_11ea_ba95_acde48001122row6_col6\" class=\"data row6 col6\" >1.000000</td>\n",
       "                        <td id=\"T_a369de7c_91e7_11ea_ba95_acde48001122row6_col7\" class=\"data row6 col7\" >0.966827</td>\n",
       "                        <td id=\"T_a369de7c_91e7_11ea_ba95_acde48001122row6_col8\" class=\"data row6 col8\" >0.985080</td>\n",
       "                        <td id=\"T_a369de7c_91e7_11ea_ba95_acde48001122row6_col9\" class=\"data row6 col9\" >0.883163</td>\n",
       "            </tr>\n",
       "            <tr>\n",
       "                        <th id=\"T_a369de7c_91e7_11ea_ba95_acde48001122level0_row7\" class=\"row_heading level0 row7\" >y</th>\n",
       "                        <td id=\"T_a369de7c_91e7_11ea_ba95_acde48001122row7_col0\" class=\"data row7 col0\" >0.944445</td>\n",
       "                        <td id=\"T_a369de7c_91e7_11ea_ba95_acde48001122row7_col1\" class=\"data row7 col1\" >0.153217</td>\n",
       "                        <td id=\"T_a369de7c_91e7_11ea_ba95_acde48001122row7_col2\" class=\"data row7 col2\" >0.017463</td>\n",
       "                        <td id=\"T_a369de7c_91e7_11ea_ba95_acde48001122row7_col3\" class=\"data row7 col3\" >0.139297</td>\n",
       "                        <td id=\"T_a369de7c_91e7_11ea_ba95_acde48001122row7_col4\" class=\"data row7 col4\" >-0.027880</td>\n",
       "                        <td id=\"T_a369de7c_91e7_11ea_ba95_acde48001122row7_col5\" class=\"data row7 col5\" >0.180449</td>\n",
       "                        <td id=\"T_a369de7c_91e7_11ea_ba95_acde48001122row7_col6\" class=\"data row7 col6\" >0.966827</td>\n",
       "                        <td id=\"T_a369de7c_91e7_11ea_ba95_acde48001122row7_col7\" class=\"data row7 col7\" >1.000000</td>\n",
       "                        <td id=\"T_a369de7c_91e7_11ea_ba95_acde48001122row7_col8\" class=\"data row7 col8\" >0.959957</td>\n",
       "                        <td id=\"T_a369de7c_91e7_11ea_ba95_acde48001122row7_col9\" class=\"data row7 col9\" >0.857564</td>\n",
       "            </tr>\n",
       "            <tr>\n",
       "                        <th id=\"T_a369de7c_91e7_11ea_ba95_acde48001122level0_row8\" class=\"row_heading level0 row8\" >z</th>\n",
       "                        <td id=\"T_a369de7c_91e7_11ea_ba95_acde48001122row8_col0\" class=\"data row8 col0\" >0.967289</td>\n",
       "                        <td id=\"T_a369de7c_91e7_11ea_ba95_acde48001122row8_col1\" class=\"data row8 col1\" >0.178058</td>\n",
       "                        <td id=\"T_a369de7c_91e7_11ea_ba95_acde48001122row8_col2\" class=\"data row8 col2\" >0.017787</td>\n",
       "                        <td id=\"T_a369de7c_91e7_11ea_ba95_acde48001122row8_col3\" class=\"data row8 col3\" >0.146497</td>\n",
       "                        <td id=\"T_a369de7c_91e7_11ea_ba95_acde48001122row8_col4\" class=\"data row8 col4\" >0.097399</td>\n",
       "                        <td id=\"T_a369de7c_91e7_11ea_ba95_acde48001122row8_col5\" class=\"data row8 col5\" >0.153175</td>\n",
       "                        <td id=\"T_a369de7c_91e7_11ea_ba95_acde48001122row8_col6\" class=\"data row8 col6\" >0.985080</td>\n",
       "                        <td id=\"T_a369de7c_91e7_11ea_ba95_acde48001122row8_col7\" class=\"data row8 col7\" >0.959957</td>\n",
       "                        <td id=\"T_a369de7c_91e7_11ea_ba95_acde48001122row8_col8\" class=\"data row8 col8\" >1.000000</td>\n",
       "                        <td id=\"T_a369de7c_91e7_11ea_ba95_acde48001122row8_col9\" class=\"data row8 col9\" >0.872855</td>\n",
       "            </tr>\n",
       "            <tr>\n",
       "                        <th id=\"T_a369de7c_91e7_11ea_ba95_acde48001122level0_row9\" class=\"row_heading level0 row9\" >price</th>\n",
       "                        <td id=\"T_a369de7c_91e7_11ea_ba95_acde48001122row9_col0\" class=\"data row9 col0\" >0.921887</td>\n",
       "                        <td id=\"T_a369de7c_91e7_11ea_ba95_acde48001122row9_col1\" class=\"data row9 col1\" >0.087908</td>\n",
       "                        <td id=\"T_a369de7c_91e7_11ea_ba95_acde48001122row9_col2\" class=\"data row9 col2\" >0.000333</td>\n",
       "                        <td id=\"T_a369de7c_91e7_11ea_ba95_acde48001122row9_col3\" class=\"data row9 col3\" >0.031436</td>\n",
       "                        <td id=\"T_a369de7c_91e7_11ea_ba95_acde48001122row9_col4\" class=\"data row9 col4\" >-0.009228</td>\n",
       "                        <td id=\"T_a369de7c_91e7_11ea_ba95_acde48001122row9_col5\" class=\"data row9 col5\" >0.127338</td>\n",
       "                        <td id=\"T_a369de7c_91e7_11ea_ba95_acde48001122row9_col6\" class=\"data row9 col6\" >0.883163</td>\n",
       "                        <td id=\"T_a369de7c_91e7_11ea_ba95_acde48001122row9_col7\" class=\"data row9 col7\" >0.857564</td>\n",
       "                        <td id=\"T_a369de7c_91e7_11ea_ba95_acde48001122row9_col8\" class=\"data row9 col8\" >0.872855</td>\n",
       "                        <td id=\"T_a369de7c_91e7_11ea_ba95_acde48001122row9_col9\" class=\"data row9 col9\" >1.000000</td>\n",
       "            </tr>\n",
       "    </tbody></table>"
      ],
      "text/plain": [
       "<pandas.io.formats.style.Styler at 0x12c5e4050>"
      ]
     },
     "execution_count": 14,
     "metadata": {},
     "output_type": "execute_result"
    }
   ],
   "source": [
    "corr = diamonds_data.corr()\n",
    "corr.style.background_gradient(cmap='coolwarm')"
   ]
  },
  {
   "cell_type": "code",
   "execution_count": 15,
   "metadata": {},
   "outputs": [
    {
     "data": {
      "text/plain": [
       "<matplotlib.axes._subplots.AxesSubplot at 0x12d595190>"
      ]
     },
     "execution_count": 15,
     "metadata": {},
     "output_type": "execute_result"
    },
    {
     "data": {
      "image/png": "[encoded data removed]",
      "text/plain": [
       "<Figure size 720x504 with 2 Axes>"
      ]
     },
     "metadata": {
      "needs_background": "light"
     },
     "output_type": "display_data"
    }
   ],
   "source": [
    "mask = np.zeros_like(corr, dtype=np.bool)\n",
    "mask[np.triu_indices_from(mask)] = True\n",
    "f, ax = plt.subplots(figsize=(10, 7))\n",
    "cmap = sns.diverging_palette(220, 10, as_cmap=True)\n",
    "sns.heatmap(corr, mask=mask, cmap=cmap, vmax=.3, center=0,\n",
    "            square=True, linewidths=.5, cbar_kws={\"shrink\": .5})"
   ]
  },
  {
   "cell_type": "code",
   "execution_count": 16,
   "metadata": {},
   "outputs": [],
   "source": [
    "diamonds_data.drop(columns=['y','x','z'],inplace=True) # high correlation with carat colum"
   ]
  },
  {
   "cell_type": "code",
   "execution_count": 17,
   "metadata": {},
   "outputs": [],
   "source": [
    "diamonds_data.to_csv(\"diamonds_data.csv\")"
   ]
  },
  {
   "cell_type": "code",
   "execution_count": 18,
   "metadata": {},
   "outputs": [
    {
     "data": {
      "text/plain": [
       "<matplotlib.axes._subplots.AxesSubplot at 0x12d6bfb10>"
      ]
     },
     "execution_count": 18,
     "metadata": {},
     "output_type": "execute_result"
    },
    {
     "data": {
      "image/png": "[encoded data removed]",
      "text/plain": [
       "<Figure size 432x288 with 1 Axes>"
      ]
     },
     "metadata": {
      "needs_background": "light"
     },
     "output_type": "display_data"
    }
   ],
   "source": [
    "plt.subplot(1,2,1)\n",
    "sns.distplot(diamonds_data['price'])"
   ]
  },
  {
   "cell_type": "code",
   "execution_count": 19,
   "metadata": {},
   "outputs": [
    {
     "data": {
      "text/plain": [
       "625      99\n",
       "789      96\n",
       "605      95\n",
       "776      94\n",
       "596      93\n",
       "         ..\n",
       "12112     1\n",
       "16210     1\n",
       "4040      1\n",
       "18369     1\n",
       "16560     1\n",
       "Name: price, Length: 10386, dtype: int64"
      ]
     },
     "execution_count": 19,
     "metadata": {},
     "output_type": "execute_result"
    }
   ],
   "source": [
    "diamonds_data['price'].value_counts()"
   ]
  },
  {
   "cell_type": "markdown",
   "metadata": {},
   "source": [
    "## Standardization:"
   ]
  },
  {
   "cell_type": "code",
   "execution_count": 20,
   "metadata": {},
   "outputs": [
    {
     "data": {
      "text/plain": [
       "StandardScaler(copy=True, with_mean=True, with_std=True)"
      ]
     },
     "execution_count": 20,
     "metadata": {},
     "output_type": "execute_result"
    }
   ],
   "source": [
    "scalar_features = diamonds_data.drop(columns=\"price\")\n",
    "gt = diamonds_data[\"price\"]\n",
    "scaler = StandardScaler()\n",
    "scaler.fit(scalar_features, gt)"
   ]
  },
  {
   "cell_type": "code",
   "execution_count": 21,
   "metadata": {},
   "outputs": [
    {
     "data": {
      "text/html": [
       "<div>\n",
       "<style scoped>\n",
       "    .dataframe tbody tr th:only-of-type {\n",
       "        vertical-align: middle;\n",
       "    }\n",
       "\n",
       "    .dataframe tbody tr th {\n",
       "        vertical-align: top;\n",
       "    }\n",
       "\n",
       "    .dataframe thead th {\n",
       "        text-align: right;\n",
       "    }\n",
       "</style>\n",
       "<table border=\"1\" class=\"dataframe\">\n",
       "  <thead>\n",
       "    <tr style=\"text-align: right;\">\n",
       "      <th></th>\n",
       "      <th>carat</th>\n",
       "      <th>cut</th>\n",
       "      <th>color</th>\n",
       "      <th>clarity</th>\n",
       "      <th>depth</th>\n",
       "      <th>table</th>\n",
       "    </tr>\n",
       "  </thead>\n",
       "  <tbody>\n",
       "    <tr>\n",
       "      <th>0</th>\n",
       "      <td>0.880093</td>\n",
       "      <td>-1.001891</td>\n",
       "      <td>-1.504686</td>\n",
       "      <td>-1.357726</td>\n",
       "      <td>0.877395</td>\n",
       "      <td>-0.205924</td>\n",
       "    </tr>\n",
       "    <tr>\n",
       "      <th>1</th>\n",
       "      <td>-1.095267</td>\n",
       "      <td>-0.114291</td>\n",
       "      <td>-0.952215</td>\n",
       "      <td>-0.874871</td>\n",
       "      <td>1.579543</td>\n",
       "      <td>-0.653290</td>\n",
       "    </tr>\n",
       "    <tr>\n",
       "      <th>2</th>\n",
       "      <td>-0.797901</td>\n",
       "      <td>0.773309</td>\n",
       "      <td>-0.399745</td>\n",
       "      <td>-0.392016</td>\n",
       "      <td>-0.386471</td>\n",
       "      <td>0.241442</td>\n",
       "    </tr>\n",
       "    <tr>\n",
       "      <th>3</th>\n",
       "      <td>-1.137748</td>\n",
       "      <td>-1.001891</td>\n",
       "      <td>-1.504686</td>\n",
       "      <td>0.090838</td>\n",
       "      <td>-0.456686</td>\n",
       "      <td>-0.205924</td>\n",
       "    </tr>\n",
       "    <tr>\n",
       "      <th>4</th>\n",
       "      <td>0.646448</td>\n",
       "      <td>1.660908</td>\n",
       "      <td>0.152725</td>\n",
       "      <td>0.573693</td>\n",
       "      <td>1.158254</td>\n",
       "      <td>-0.205924</td>\n",
       "    </tr>\n",
       "  </tbody>\n",
       "</table>\n",
       "</div>"
      ],
      "text/plain": [
       "      carat       cut     color   clarity     depth     table\n",
       "0  0.880093 -1.001891 -1.504686 -1.357726  0.877395 -0.205924\n",
       "1 -1.095267 -0.114291 -0.952215 -0.874871  1.579543 -0.653290\n",
       "2 -0.797901  0.773309 -0.399745 -0.392016 -0.386471  0.241442\n",
       "3 -1.137748 -1.001891 -1.504686  0.090838 -0.456686 -0.205924\n",
       "4  0.646448  1.660908  0.152725  0.573693  1.158254 -0.205924"
      ]
     },
     "execution_count": 21,
     "metadata": {},
     "output_type": "execute_result"
    }
   ],
   "source": [
    "transformed_scalar_features = scaler.transform(scalar_features)\n",
    "diamonds_scaler = pd.DataFrame(transformed_scalar_features,columns=['carat', 'cut', 'color', 'clarity', 'depth', 'table'])\n",
    "diamonds_scaler.head()"
   ]
  },
  {
   "cell_type": "markdown",
   "metadata": {},
   "source": [
    "## Train:"
   ]
  },
  {
   "cell_type": "code",
   "execution_count": 22,
   "metadata": {},
   "outputs": [
    {
     "data": {
      "text/html": [
       "<div>\n",
       "<style scoped>\n",
       "    .dataframe tbody tr th:only-of-type {\n",
       "        vertical-align: middle;\n",
       "    }\n",
       "\n",
       "    .dataframe tbody tr th {\n",
       "        vertical-align: top;\n",
       "    }\n",
       "\n",
       "    .dataframe thead th {\n",
       "        text-align: right;\n",
       "    }\n",
       "</style>\n",
       "<table border=\"1\" class=\"dataframe\">\n",
       "  <thead>\n",
       "    <tr style=\"text-align: right;\">\n",
       "      <th></th>\n",
       "      <th>carat</th>\n",
       "      <th>cut</th>\n",
       "      <th>color</th>\n",
       "      <th>clarity</th>\n",
       "      <th>depth</th>\n",
       "      <th>table</th>\n",
       "    </tr>\n",
       "  </thead>\n",
       "  <tbody>\n",
       "    <tr>\n",
       "      <th>0</th>\n",
       "      <td>0.880093</td>\n",
       "      <td>-1.001891</td>\n",
       "      <td>-1.504686</td>\n",
       "      <td>-1.357726</td>\n",
       "      <td>0.877395</td>\n",
       "      <td>-0.205924</td>\n",
       "    </tr>\n",
       "    <tr>\n",
       "      <th>1</th>\n",
       "      <td>-1.095267</td>\n",
       "      <td>-0.114291</td>\n",
       "      <td>-0.952215</td>\n",
       "      <td>-0.874871</td>\n",
       "      <td>1.579543</td>\n",
       "      <td>-0.653290</td>\n",
       "    </tr>\n",
       "    <tr>\n",
       "      <th>2</th>\n",
       "      <td>-0.797901</td>\n",
       "      <td>0.773309</td>\n",
       "      <td>-0.399745</td>\n",
       "      <td>-0.392016</td>\n",
       "      <td>-0.386471</td>\n",
       "      <td>0.241442</td>\n",
       "    </tr>\n",
       "    <tr>\n",
       "      <th>3</th>\n",
       "      <td>-1.137748</td>\n",
       "      <td>-1.001891</td>\n",
       "      <td>-1.504686</td>\n",
       "      <td>0.090838</td>\n",
       "      <td>-0.456686</td>\n",
       "      <td>-0.205924</td>\n",
       "    </tr>\n",
       "    <tr>\n",
       "      <th>4</th>\n",
       "      <td>0.646448</td>\n",
       "      <td>1.660908</td>\n",
       "      <td>0.152725</td>\n",
       "      <td>0.573693</td>\n",
       "      <td>1.158254</td>\n",
       "      <td>-0.205924</td>\n",
       "    </tr>\n",
       "  </tbody>\n",
       "</table>\n",
       "</div>"
      ],
      "text/plain": [
       "      carat       cut     color   clarity     depth     table\n",
       "0  0.880093 -1.001891 -1.504686 -1.357726  0.877395 -0.205924\n",
       "1 -1.095267 -0.114291 -0.952215 -0.874871  1.579543 -0.653290\n",
       "2 -0.797901  0.773309 -0.399745 -0.392016 -0.386471  0.241442\n",
       "3 -1.137748 -1.001891 -1.504686  0.090838 -0.456686 -0.205924\n",
       "4  0.646448  1.660908  0.152725  0.573693  1.158254 -0.205924"
      ]
     },
     "metadata": {},
     "output_type": "display_data"
    },
    {
     "data": {
      "text/plain": [
       "0    6134\n",
       "1     532\n",
       "2    1103\n",
       "3     600\n",
       "4    4997\n",
       "Name: price, dtype: int64"
      ]
     },
     "metadata": {},
     "output_type": "display_data"
    }
   ],
   "source": [
    "X=diamonds_scaler\n",
    "y=diamonds_data[\"price\"]\n",
    "display(X.head(),y.head())"
   ]
  },
  {
   "cell_type": "code",
   "execution_count": 23,
   "metadata": {},
   "outputs": [
    {
     "name": "stdout",
     "output_type": "stream",
     "text": [
      "(32276, 6) (8069, 6) (32276,) (8069,)\n"
     ]
    }
   ],
   "source": [
    "X_train, X_test, y_train, y_test = train_test_split(X, y, test_size=0.2)\n",
    "print(X_train.shape, X_test.shape, y_train.shape, y_test.shape)"
   ]
  },
  {
   "cell_type": "markdown",
   "metadata": {},
   "source": [
    "## Trying Models:"
   ]
  },
  {
   "cell_type": "code",
   "execution_count": 24,
   "metadata": {},
   "outputs": [
    {
     "name": "stdout",
     "output_type": "stream",
     "text": [
      "Training randomforestregressor3...\n",
      "0.9778040261539228\n"
     ]
    }
   ],
   "source": [
    "models = {\n",
    "    #\"randomforestregressor1\": RandomForestRegressor(n_estimators=100),#0.9772181\n",
    "    #\"randomforestregressor2\": RandomForestRegressor(n_estimators=200),#0.9773515\n",
    "    #\"randomforestregressor2\": RandomForestRegressor(n_estimators=250),#0.9773515\n",
    "    \"randomforestregressor3\": RandomForestRegressor(n_estimators=500),#0.977704110471639\n",
    "    #\"boosting\":GradientBoostingRegressor(),#0.96013185\n",
    "    #\"neigbor\":KNeighborsRegressor(),#0.927466\n",
    "    #\"tree\":tree.DecisionTreeClassifier()#0.8972199\n",
    "}\n",
    "\n",
    "# Train all the models in the models dict\n",
    "for name,model in models.items():\n",
    "    print(f\"Training {name}...\")\n",
    "    model.fit(X_train, y_train)\n",
    "    print(np.mean(cross_val_score(model, X_train, y_train, scoring='r2', cv=3, n_jobs=2)))"
   ]
  },
  {
   "cell_type": "code",
   "execution_count": 25,
   "metadata": {},
   "outputs": [
    {
     "data": {
      "text/html": [
       "<div>\n",
       "<style scoped>\n",
       "    .dataframe tbody tr th:only-of-type {\n",
       "        vertical-align: middle;\n",
       "    }\n",
       "\n",
       "    .dataframe tbody tr th {\n",
       "        vertical-align: top;\n",
       "    }\n",
       "\n",
       "    .dataframe thead th {\n",
       "        text-align: right;\n",
       "    }\n",
       "</style>\n",
       "<table border=\"1\" class=\"dataframe\">\n",
       "  <thead>\n",
       "    <tr style=\"text-align: right;\">\n",
       "      <th></th>\n",
       "      <th>randomforestregressor3</th>\n",
       "      <th>gt</th>\n",
       "    </tr>\n",
       "  </thead>\n",
       "  <tbody>\n",
       "    <tr>\n",
       "      <th>0</th>\n",
       "      <td>450.020000</td>\n",
       "      <td>480</td>\n",
       "    </tr>\n",
       "    <tr>\n",
       "      <th>1</th>\n",
       "      <td>4127.287167</td>\n",
       "      <td>3898</td>\n",
       "    </tr>\n",
       "    <tr>\n",
       "      <th>2</th>\n",
       "      <td>840.576579</td>\n",
       "      <td>653</td>\n",
       "    </tr>\n",
       "    <tr>\n",
       "      <th>3</th>\n",
       "      <td>969.277000</td>\n",
       "      <td>1299</td>\n",
       "    </tr>\n",
       "    <tr>\n",
       "      <th>4</th>\n",
       "      <td>4799.595300</td>\n",
       "      <td>5704</td>\n",
       "    </tr>\n",
       "  </tbody>\n",
       "</table>\n",
       "</div>"
      ],
      "text/plain": [
       "   randomforestregressor3    gt\n",
       "0              450.020000   480\n",
       "1             4127.287167  3898\n",
       "2              840.576579   653\n",
       "3              969.277000  1299\n",
       "4             4799.595300  5704"
      ]
     },
     "execution_count": 25,
     "metadata": {},
     "output_type": "execute_result"
    }
   ],
   "source": [
    "d = {modelName:model.predict(X_test) for modelName, model in models.items()}\n",
    "df = pd.DataFrame(d)\n",
    "df[\"gt\"] = y_test.reset_index(drop=True)\n",
    "df.head()"
   ]
  },
  {
   "cell_type": "code",
   "execution_count": 26,
   "metadata": {},
   "outputs": [
    {
     "name": "stdout",
     "output_type": "stream",
     "text": [
      "Evaluating model [randomforestregressor3]:\n",
      "r2_score 0.9771310388195917\n",
      "RSME 602.0133156196512\n"
     ]
    }
   ],
   "source": [
    "for modelName, model in models.items():    \n",
    "    print(f\"Evaluating model [{modelName}]:\")\n",
    "    print(\"r2_score\", r2_score(df[\"gt\"],df[modelName]))\n",
    "    print(\"RSME\", (mean_squared_error(df[\"gt\"],df[modelName])**0.5))"
   ]
  },
  {
   "cell_type": "markdown",
   "metadata": {},
   "source": [
    "## Random Forest:"
   ]
  },
  {
   "cell_type": "code",
   "execution_count": 27,
   "metadata": {},
   "outputs": [
    {
     "name": "stdout",
     "output_type": "stream",
     "text": [
      "number of trees: 500\n",
      "r2_score 0.9771266838186302\n",
      "RSME 362489.04885518464\n",
      "number of trees: 1000\n",
      "r2_score 0.9771070218753651\n",
      "RSME 362800.6450861943\n",
      "number of trees: 1500\n",
      "r2_score 0.9771799725785382\n",
      "RSME 361644.54551598686\n"
     ]
    }
   ],
   "source": [
    "# Trying Parameters:\n",
    "n_estimators = [500, 1000, 1500]\n",
    "min_samples_split = range(10, 100, 20)\n",
    "min_samples_leaf = range(10, 100, 20)\n",
    "for n in n_estimators:\n",
    "      forest = RandomForestRegressor(n_estimators=n, n_jobs=-1, warm_start=True)\n",
    "      print(f\"number of trees: {n}\")\n",
    "      forest.fit(X_train, y_train)\n",
    "      prediction = forest.predict(X_test)\n",
    "      print(\"r2_score\", r2_score(y_test,prediction))\n",
    "      print(\"RSME\", mean_squared_error(y_test,prediction))"
   ]
  },
  {
   "cell_type": "code",
   "execution_count": 48,
   "metadata": {},
   "outputs": [
    {
     "name": "stdout",
     "output_type": "stream",
     "text": [
      "0.97719745169156\n",
      "601.1385381800678\n"
     ]
    }
   ],
   "source": [
    "chosen_forest = RandomForestRegressor(500, n_jobs=-1).fit(X_train, y_train)# test1=1500\n",
    "forest_prediction = chosen_forest.predict(X_test)\n",
    "print(r2_score(y_test, forest_prediction))\n",
    "print((mean_squared_error(y_test, forest_prediction))**0.5) "
   ]
  },
  {
   "cell_type": "markdown",
   "metadata": {},
   "source": [
    "## Testing:"
   ]
  },
  {
   "cell_type": "code",
   "execution_count": 29,
   "metadata": {},
   "outputs": [
    {
     "data": {
      "text/html": [
       "<div>\n",
       "<style scoped>\n",
       "    .dataframe tbody tr th:only-of-type {\n",
       "        vertical-align: middle;\n",
       "    }\n",
       "\n",
       "    .dataframe tbody tr th {\n",
       "        vertical-align: top;\n",
       "    }\n",
       "\n",
       "    .dataframe thead th {\n",
       "        text-align: right;\n",
       "    }\n",
       "</style>\n",
       "<table border=\"1\" class=\"dataframe\">\n",
       "  <thead>\n",
       "    <tr style=\"text-align: right;\">\n",
       "      <th></th>\n",
       "      <th>Unnamed: 0</th>\n",
       "      <th>carat</th>\n",
       "      <th>cut</th>\n",
       "      <th>color</th>\n",
       "      <th>clarity</th>\n",
       "      <th>depth</th>\n",
       "      <th>table</th>\n",
       "      <th>x</th>\n",
       "      <th>y</th>\n",
       "      <th>z</th>\n",
       "    </tr>\n",
       "  </thead>\n",
       "  <tbody>\n",
       "    <tr>\n",
       "      <th>0</th>\n",
       "      <td>0</td>\n",
       "      <td>0.30</td>\n",
       "      <td>Ideal</td>\n",
       "      <td>H</td>\n",
       "      <td>SI2</td>\n",
       "      <td>60.0</td>\n",
       "      <td>56.0</td>\n",
       "      <td>4.41</td>\n",
       "      <td>4.43</td>\n",
       "      <td>2.65</td>\n",
       "    </tr>\n",
       "    <tr>\n",
       "      <th>1</th>\n",
       "      <td>1</td>\n",
       "      <td>0.34</td>\n",
       "      <td>Ideal</td>\n",
       "      <td>D</td>\n",
       "      <td>IF</td>\n",
       "      <td>62.1</td>\n",
       "      <td>57.0</td>\n",
       "      <td>4.52</td>\n",
       "      <td>4.46</td>\n",
       "      <td>2.79</td>\n",
       "    </tr>\n",
       "    <tr>\n",
       "      <th>2</th>\n",
       "      <td>2</td>\n",
       "      <td>1.57</td>\n",
       "      <td>Very Good</td>\n",
       "      <td>I</td>\n",
       "      <td>VS2</td>\n",
       "      <td>60.3</td>\n",
       "      <td>58.0</td>\n",
       "      <td>7.58</td>\n",
       "      <td>7.55</td>\n",
       "      <td>4.56</td>\n",
       "    </tr>\n",
       "    <tr>\n",
       "      <th>3</th>\n",
       "      <td>3</td>\n",
       "      <td>0.31</td>\n",
       "      <td>Ideal</td>\n",
       "      <td>H</td>\n",
       "      <td>VS2</td>\n",
       "      <td>61.8</td>\n",
       "      <td>57.0</td>\n",
       "      <td>4.32</td>\n",
       "      <td>4.36</td>\n",
       "      <td>2.68</td>\n",
       "    </tr>\n",
       "    <tr>\n",
       "      <th>4</th>\n",
       "      <td>4</td>\n",
       "      <td>1.51</td>\n",
       "      <td>Good</td>\n",
       "      <td>I</td>\n",
       "      <td>VVS1</td>\n",
       "      <td>64.0</td>\n",
       "      <td>60.0</td>\n",
       "      <td>7.26</td>\n",
       "      <td>7.21</td>\n",
       "      <td>4.63</td>\n",
       "    </tr>\n",
       "  </tbody>\n",
       "</table>\n",
       "</div>"
      ],
      "text/plain": [
       "   Unnamed: 0  carat        cut color clarity  depth  table     x     y     z\n",
       "0           0   0.30      Ideal     H     SI2   60.0   56.0  4.41  4.43  2.65\n",
       "1           1   0.34      Ideal     D      IF   62.1   57.0  4.52  4.46  2.79\n",
       "2           2   1.57  Very Good     I     VS2   60.3   58.0  7.58  7.55  4.56\n",
       "3           3   0.31      Ideal     H     VS2   61.8   57.0  4.32  4.36  2.68\n",
       "4           4   1.51       Good     I    VVS1   64.0   60.0  7.26  7.21  4.63"
      ]
     },
     "execution_count": 29,
     "metadata": {},
     "output_type": "execute_result"
    }
   ],
   "source": [
    "diamonds_test = pd.read_csv(\"../input_diamonds/diamonds_test.csv\")\n",
    "diamonds_test.head()"
   ]
  },
  {
   "cell_type": "code",
   "execution_count": 35,
   "metadata": {},
   "outputs": [
    {
     "name": "stdout",
     "output_type": "stream",
     "text": [
      "<class 'pandas.core.frame.DataFrame'>\n",
      "RangeIndex: 13449 entries, 0 to 13448\n",
      "Data columns (total 7 columns):\n",
      " #   Column      Non-Null Count  Dtype  \n",
      "---  ------      --------------  -----  \n",
      " 0   Unnamed: 0  13449 non-null  int64  \n",
      " 1   carat       13449 non-null  float64\n",
      " 2   cut         13449 non-null  int8   \n",
      " 3   color       13449 non-null  int8   \n",
      " 4   clarity     13449 non-null  int8   \n",
      " 5   depth       13449 non-null  float64\n",
      " 6   table       13449 non-null  float64\n",
      "dtypes: float64(3), int64(1), int8(3)\n",
      "memory usage: 459.8 KB\n"
     ]
    }
   ],
   "source": [
    "diamonds_test.info()"
   ]
  },
  {
   "cell_type": "code",
   "execution_count": 30,
   "metadata": {},
   "outputs": [],
   "source": [
    "diamonds_test.drop(columns=['y','x','z'],inplace=True)"
   ]
  },
  {
   "cell_type": "code",
   "execution_count": 31,
   "metadata": {},
   "outputs": [],
   "source": [
    "cols_norm=['carat',\"depth\",\"table\"]\n",
    "for c in cols_norm:\n",
    "    mean=np.mean(diamonds_test[c])\n",
    "    std=np.std(diamonds_test[c])\n",
    "    diamonds_test[c]=(diamonds_test[c]-mean)/std"
   ]
  },
  {
   "cell_type": "code",
   "execution_count": 49,
   "metadata": {},
   "outputs": [
    {
     "data": {
      "text/plain": [
       "0    5398\n",
       "3    3409\n",
       "1    3033\n",
       "2    1197\n",
       "4     412\n",
       "Name: cut, dtype: int64"
      ]
     },
     "execution_count": 49,
     "metadata": {},
     "output_type": "execute_result"
    }
   ],
   "source": [
    "cut_list=list(diamonds_test.cut.unique())\n",
    "diamonds_test[\"cut\"]=pd.Categorical(diamonds_test[\"cut\"],ordered=True,categories=cut_list)\n",
    "diamonds_test[\"cut\"]=diamonds_test[\"cut\"].cat.codes\n",
    "diamonds_test[\"cut\"].value_counts()"
   ]
  },
  {
   "cell_type": "code",
   "execution_count": 33,
   "metadata": {},
   "outputs": [
    {
     "data": {
      "text/plain": [
       "5    2763\n",
       "3    2425\n",
       "4    2390\n",
       "0    2038\n",
       "1    1681\n",
       "2    1384\n",
       "6     768\n",
       "Name: color, dtype: int64"
      ]
     },
     "execution_count": 33,
     "metadata": {},
     "output_type": "execute_result"
    }
   ],
   "source": [
    "color_list=list(diamonds_test.color.unique())\n",
    "diamonds_test[\"color\"]=pd.Categorical(diamonds_test[\"color\"],ordered=True,categories=color_list)\n",
    "diamonds_test[\"color\"]=diamonds_test[\"color\"].cat.codes\n",
    "diamonds_test[\"color\"].value_counts()"
   ]
  },
  {
   "cell_type": "code",
   "execution_count": 34,
   "metadata": {},
   "outputs": [
    {
     "data": {
      "text/plain": [
       "4    3281\n",
       "2    3051\n",
       "0    2322\n",
       "5    2055\n",
       "7    1198\n",
       "3     933\n",
       "1     422\n",
       "6     187\n",
       "Name: clarity, dtype: int64"
      ]
     },
     "execution_count": 34,
     "metadata": {},
     "output_type": "execute_result"
    }
   ],
   "source": [
    "clarity_list=list(diamonds_test.clarity.unique())\n",
    "diamonds_test[\"clarity\"]=pd.Categorical(diamonds_test[\"clarity\"],ordered=True,categories=clarity_list)\n",
    "diamonds_test[\"clarity\"]=diamonds_test[\"clarity\"].cat.codes\n",
    "diamonds_test[\"clarity\"].value_counts()"
   ]
  },
  {
   "cell_type": "code",
   "execution_count": 37,
   "metadata": {},
   "outputs": [],
   "source": [
    "diamonds_test.drop(columns=\"Unnamed: 0\",inplace=True)"
   ]
  },
  {
   "cell_type": "code",
   "execution_count": 50,
   "metadata": {},
   "outputs": [
    {
     "data": {
      "text/html": [
       "<div>\n",
       "<style scoped>\n",
       "    .dataframe tbody tr th:only-of-type {\n",
       "        vertical-align: middle;\n",
       "    }\n",
       "\n",
       "    .dataframe tbody tr th {\n",
       "        vertical-align: top;\n",
       "    }\n",
       "\n",
       "    .dataframe thead th {\n",
       "        text-align: right;\n",
       "    }\n",
       "</style>\n",
       "<table border=\"1\" class=\"dataframe\">\n",
       "  <thead>\n",
       "    <tr style=\"text-align: right;\">\n",
       "      <th></th>\n",
       "      <th>carat</th>\n",
       "      <th>cut</th>\n",
       "      <th>color</th>\n",
       "      <th>clarity</th>\n",
       "      <th>depth</th>\n",
       "      <th>table</th>\n",
       "    </tr>\n",
       "  </thead>\n",
       "  <tbody>\n",
       "    <tr>\n",
       "      <th>0</th>\n",
       "      <td>-1.048154</td>\n",
       "      <td>0</td>\n",
       "      <td>0</td>\n",
       "      <td>0</td>\n",
       "      <td>-1.203383</td>\n",
       "      <td>-0.651290</td>\n",
       "    </tr>\n",
       "    <tr>\n",
       "      <th>1</th>\n",
       "      <td>-0.964994</td>\n",
       "      <td>0</td>\n",
       "      <td>1</td>\n",
       "      <td>1</td>\n",
       "      <td>0.248074</td>\n",
       "      <td>-0.202597</td>\n",
       "    </tr>\n",
       "    <tr>\n",
       "      <th>2</th>\n",
       "      <td>1.592168</td>\n",
       "      <td>1</td>\n",
       "      <td>2</td>\n",
       "      <td>2</td>\n",
       "      <td>-0.996032</td>\n",
       "      <td>0.246095</td>\n",
       "    </tr>\n",
       "    <tr>\n",
       "      <th>3</th>\n",
       "      <td>-1.027364</td>\n",
       "      <td>0</td>\n",
       "      <td>0</td>\n",
       "      <td>2</td>\n",
       "      <td>0.040723</td>\n",
       "      <td>-0.202597</td>\n",
       "    </tr>\n",
       "    <tr>\n",
       "      <th>4</th>\n",
       "      <td>1.467429</td>\n",
       "      <td>2</td>\n",
       "      <td>2</td>\n",
       "      <td>3</td>\n",
       "      <td>1.561297</td>\n",
       "      <td>1.143481</td>\n",
       "    </tr>\n",
       "  </tbody>\n",
       "</table>\n",
       "</div>"
      ],
      "text/plain": [
       "      carat  cut  color  clarity     depth     table\n",
       "0 -1.048154    0      0        0 -1.203383 -0.651290\n",
       "1 -0.964994    0      1        1  0.248074 -0.202597\n",
       "2  1.592168    1      2        2 -0.996032  0.246095\n",
       "3 -1.027364    0      0        2  0.040723 -0.202597\n",
       "4  1.467429    2      2        3  1.561297  1.143481"
      ]
     },
     "execution_count": 50,
     "metadata": {},
     "output_type": "execute_result"
    }
   ],
   "source": [
    "diamonds_test.head()"
   ]
  },
  {
   "cell_type": "code",
   "execution_count": 51,
   "metadata": {},
   "outputs": [
    {
     "name": "stdout",
     "output_type": "stream",
     "text": [
      "0.97719745169156\n",
      "601.1385381800678\n"
     ]
    }
   ],
   "source": [
    "price_pred=chosen_forest.predict(diamonds_test)\n",
    "print(r2_score(y_test, forest_prediction))\n",
    "print((mean_squared_error(y_test, forest_prediction))**0.5) "
   ]
  },
  {
   "cell_type": "code",
   "execution_count": 52,
   "metadata": {},
   "outputs": [
    {
     "data": {
      "text/html": [
       "<div>\n",
       "<style scoped>\n",
       "    .dataframe tbody tr th:only-of-type {\n",
       "        vertical-align: middle;\n",
       "    }\n",
       "\n",
       "    .dataframe tbody tr th {\n",
       "        vertical-align: top;\n",
       "    }\n",
       "\n",
       "    .dataframe thead th {\n",
       "        text-align: right;\n",
       "    }\n",
       "</style>\n",
       "<table border=\"1\" class=\"dataframe\">\n",
       "  <thead>\n",
       "    <tr style=\"text-align: right;\">\n",
       "      <th></th>\n",
       "      <th>price</th>\n",
       "    </tr>\n",
       "    <tr>\n",
       "      <th>id</th>\n",
       "      <th></th>\n",
       "    </tr>\n",
       "  </thead>\n",
       "  <tbody>\n",
       "    <tr>\n",
       "      <th>0</th>\n",
       "      <td>832.527333</td>\n",
       "    </tr>\n",
       "    <tr>\n",
       "      <th>1</th>\n",
       "      <td>504.542405</td>\n",
       "    </tr>\n",
       "    <tr>\n",
       "      <th>2</th>\n",
       "      <td>4761.811333</td>\n",
       "    </tr>\n",
       "    <tr>\n",
       "      <th>3</th>\n",
       "      <td>459.050124</td>\n",
       "    </tr>\n",
       "    <tr>\n",
       "      <th>4</th>\n",
       "      <td>4747.959000</td>\n",
       "    </tr>\n",
       "  </tbody>\n",
       "</table>\n",
       "</div>"
      ],
      "text/plain": [
       "          price\n",
       "id             \n",
       "0    832.527333\n",
       "1    504.542405\n",
       "2   4761.811333\n",
       "3    459.050124\n",
       "4   4747.959000"
      ]
     },
     "execution_count": 52,
     "metadata": {},
     "output_type": "execute_result"
    }
   ],
   "source": [
    "df_price=pd.DataFrame({'price':price_pred})\n",
    "df_price.index.rename('id', inplace=True)\n",
    "df_price.head()"
   ]
  },
  {
   "cell_type": "code",
   "execution_count": 53,
   "metadata": {},
   "outputs": [],
   "source": [
    "#df_price.to_csv(\"./output/test1.csv\")\n",
    "df_price.to_csv(\"./output/test2.csv\")"
   ]
  },
  {
   "cell_type": "code",
   "execution_count": null,
   "metadata": {},
   "outputs": [],
   "source": []
  }
 ],
 "metadata": {
  "kernelspec": {
   "display_name": "Python 3",
   "language": "python",
   "name": "python3"
  },
  "language_info": {
   "codemirror_mode": {
    "name": "ipython",
    "version": 3
   },
   "file_extension": ".py",
   "mimetype": "text/x-python",
   "name": "python",
   "nbconvert_exporter": "python",
   "pygments_lexer": "ipython3",
   "version": "3.7.7"
  }
 },
 "nbformat": 4,
 "nbformat_minor": 4
}
