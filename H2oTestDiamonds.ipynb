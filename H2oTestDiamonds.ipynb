{
 "cells": [
  {
   "cell_type": "code",
   "execution_count": 1,
   "metadata": {},
   "outputs": [],
   "source": [
    "import numpy  as np\n",
    "import h2o\n",
    "from h2o.automl import H2OAutoML\n",
    "import pandas as pd\n",
    "from sklearn.metrics import mean_squared_error,r2_score\n",
    "from sklearn.model_selection import cross_val_score\n",
    "from h2o.estimators.gbm import H2OGradientBoostingEstimator\n",
    "from h2o.estimators.xgboost import H2OXGBoostEstimator\n",
    "from h2o.estimators import H2ORandomForestEstimator"
   ]
  },
  {
   "cell_type": "markdown",
   "metadata": {},
   "source": [
    "# Cleaning Data:"
   ]
  },
  {
   "cell_type": "code",
   "execution_count": 2,
   "metadata": {},
   "outputs": [],
   "source": [
    "diamonds = pd.read_csv(\"../input_diamonds/diamonds_train.csv\")"
   ]
  },
  {
   "cell_type": "code",
   "execution_count": 3,
   "metadata": {},
   "outputs": [
    {
     "data": {
      "text/html": [
       "<div>\n",
       "<style scoped>\n",
       "    .dataframe tbody tr th:only-of-type {\n",
       "        vertical-align: middle;\n",
       "    }\n",
       "\n",
       "    .dataframe tbody tr th {\n",
       "        vertical-align: top;\n",
       "    }\n",
       "\n",
       "    .dataframe thead th {\n",
       "        text-align: right;\n",
       "    }\n",
       "</style>\n",
       "<table border=\"1\" class=\"dataframe\">\n",
       "  <thead>\n",
       "    <tr style=\"text-align: right;\">\n",
       "      <th></th>\n",
       "      <th>Unnamed: 0</th>\n",
       "      <th>carat</th>\n",
       "      <th>cut</th>\n",
       "      <th>color</th>\n",
       "      <th>clarity</th>\n",
       "      <th>depth</th>\n",
       "      <th>table</th>\n",
       "      <th>x</th>\n",
       "      <th>y</th>\n",
       "      <th>z</th>\n",
       "      <th>price</th>\n",
       "    </tr>\n",
       "  </thead>\n",
       "  <tbody>\n",
       "    <tr>\n",
       "      <th>0</th>\n",
       "      <td>0</td>\n",
       "      <td>1.21</td>\n",
       "      <td>Ideal</td>\n",
       "      <td>H</td>\n",
       "      <td>VS2</td>\n",
       "      <td>63.0</td>\n",
       "      <td>57.0</td>\n",
       "      <td>6.73</td>\n",
       "      <td>6.70</td>\n",
       "      <td>4.23</td>\n",
       "      <td>6134</td>\n",
       "    </tr>\n",
       "    <tr>\n",
       "      <th>1</th>\n",
       "      <td>1</td>\n",
       "      <td>0.28</td>\n",
       "      <td>Very Good</td>\n",
       "      <td>D</td>\n",
       "      <td>VVS2</td>\n",
       "      <td>64.0</td>\n",
       "      <td>56.0</td>\n",
       "      <td>4.14</td>\n",
       "      <td>4.17</td>\n",
       "      <td>2.66</td>\n",
       "      <td>532</td>\n",
       "    </tr>\n",
       "    <tr>\n",
       "      <th>2</th>\n",
       "      <td>2</td>\n",
       "      <td>0.42</td>\n",
       "      <td>Premium</td>\n",
       "      <td>F</td>\n",
       "      <td>VS1</td>\n",
       "      <td>61.2</td>\n",
       "      <td>58.0</td>\n",
       "      <td>4.86</td>\n",
       "      <td>4.82</td>\n",
       "      <td>2.96</td>\n",
       "      <td>1103</td>\n",
       "    </tr>\n",
       "    <tr>\n",
       "      <th>3</th>\n",
       "      <td>3</td>\n",
       "      <td>0.26</td>\n",
       "      <td>Ideal</td>\n",
       "      <td>H</td>\n",
       "      <td>IF</td>\n",
       "      <td>61.1</td>\n",
       "      <td>57.0</td>\n",
       "      <td>4.16</td>\n",
       "      <td>4.12</td>\n",
       "      <td>2.53</td>\n",
       "      <td>600</td>\n",
       "    </tr>\n",
       "    <tr>\n",
       "      <th>4</th>\n",
       "      <td>4</td>\n",
       "      <td>1.10</td>\n",
       "      <td>Good</td>\n",
       "      <td>G</td>\n",
       "      <td>SI1</td>\n",
       "      <td>63.4</td>\n",
       "      <td>57.0</td>\n",
       "      <td>6.52</td>\n",
       "      <td>6.55</td>\n",
       "      <td>4.14</td>\n",
       "      <td>4997</td>\n",
       "    </tr>\n",
       "  </tbody>\n",
       "</table>\n",
       "</div>"
      ],
      "text/plain": [
       "   Unnamed: 0  carat        cut color clarity  depth  table     x     y     z  \\\n",
       "0           0   1.21      Ideal     H     VS2   63.0   57.0  6.73  6.70  4.23   \n",
       "1           1   0.28  Very Good     D    VVS2   64.0   56.0  4.14  4.17  2.66   \n",
       "2           2   0.42    Premium     F     VS1   61.2   58.0  4.86  4.82  2.96   \n",
       "3           3   0.26      Ideal     H      IF   61.1   57.0  4.16  4.12  2.53   \n",
       "4           4   1.10       Good     G     SI1   63.4   57.0  6.52  6.55  4.14   \n",
       "\n",
       "   price  \n",
       "0   6134  \n",
       "1    532  \n",
       "2   1103  \n",
       "3    600  \n",
       "4   4997  "
      ]
     },
     "execution_count": 3,
     "metadata": {},
     "output_type": "execute_result"
    }
   ],
   "source": [
    "diamonds.head()"
   ]
  },
  {
   "cell_type": "markdown",
   "metadata": {},
   "source": [
    "**Convert categorical data to numerical:**"
   ]
  },
  {
   "cell_type": "code",
   "execution_count": 4,
   "metadata": {},
   "outputs": [],
   "source": [
    "diamonds[\"cut\"].replace([\"Premium\", \"Ideal\", \"Very Good\",\"Good\",\"Fair\"],[2,1,0,-1,-2],inplace=True)\n",
    "diamonds[\"color\"].replace([\"G\", \"E\", \"F\",\"H\",\"D\",\"I\",\"J\"],[3,2,1,0,-1,-2,-3],inplace=True)\n",
    "diamonds[\"clarity\"].replace([\"SI1\", \"VS2\", \"SI2\",\"VS1\",\"VVS2\",\"VVS1\",\"IF\",\"I1\"],[4,3,2,1,0,-1,-2,-3],inplace=True)"
   ]
  },
  {
   "cell_type": "markdown",
   "metadata": {},
   "source": [
    "**Create volume column with [\"x\",\"y\",\"z\"]:**"
   ]
  },
  {
   "cell_type": "code",
   "execution_count": 5,
   "metadata": {},
   "outputs": [],
   "source": [
    "diamonds[\"volume\"]=diamonds['x']*diamonds['y']*diamonds['z']"
   ]
  },
  {
   "cell_type": "code",
   "execution_count": 6,
   "metadata": {},
   "outputs": [],
   "source": [
    "diamonds.drop(['x','y','z','Unnamed: 0'],axis=1,inplace=True)"
   ]
  },
  {
   "cell_type": "code",
   "execution_count": 7,
   "metadata": {},
   "outputs": [
    {
     "data": {
      "text/html": [
       "<div>\n",
       "<style scoped>\n",
       "    .dataframe tbody tr th:only-of-type {\n",
       "        vertical-align: middle;\n",
       "    }\n",
       "\n",
       "    .dataframe tbody tr th {\n",
       "        vertical-align: top;\n",
       "    }\n",
       "\n",
       "    .dataframe thead th {\n",
       "        text-align: right;\n",
       "    }\n",
       "</style>\n",
       "<table border=\"1\" class=\"dataframe\">\n",
       "  <thead>\n",
       "    <tr style=\"text-align: right;\">\n",
       "      <th></th>\n",
       "      <th>carat</th>\n",
       "      <th>cut</th>\n",
       "      <th>color</th>\n",
       "      <th>clarity</th>\n",
       "      <th>depth</th>\n",
       "      <th>table</th>\n",
       "      <th>price</th>\n",
       "      <th>volume</th>\n",
       "    </tr>\n",
       "  </thead>\n",
       "  <tbody>\n",
       "    <tr>\n",
       "      <th>0</th>\n",
       "      <td>1.21</td>\n",
       "      <td>1</td>\n",
       "      <td>0</td>\n",
       "      <td>3</td>\n",
       "      <td>63.0</td>\n",
       "      <td>57.0</td>\n",
       "      <td>6134</td>\n",
       "      <td>190.734930</td>\n",
       "    </tr>\n",
       "    <tr>\n",
       "      <th>1</th>\n",
       "      <td>0.28</td>\n",
       "      <td>0</td>\n",
       "      <td>-1</td>\n",
       "      <td>0</td>\n",
       "      <td>64.0</td>\n",
       "      <td>56.0</td>\n",
       "      <td>532</td>\n",
       "      <td>45.921708</td>\n",
       "    </tr>\n",
       "    <tr>\n",
       "      <th>2</th>\n",
       "      <td>0.42</td>\n",
       "      <td>2</td>\n",
       "      <td>1</td>\n",
       "      <td>1</td>\n",
       "      <td>61.2</td>\n",
       "      <td>58.0</td>\n",
       "      <td>1103</td>\n",
       "      <td>69.338592</td>\n",
       "    </tr>\n",
       "    <tr>\n",
       "      <th>3</th>\n",
       "      <td>0.26</td>\n",
       "      <td>1</td>\n",
       "      <td>0</td>\n",
       "      <td>-2</td>\n",
       "      <td>61.1</td>\n",
       "      <td>57.0</td>\n",
       "      <td>600</td>\n",
       "      <td>43.362176</td>\n",
       "    </tr>\n",
       "    <tr>\n",
       "      <th>4</th>\n",
       "      <td>1.10</td>\n",
       "      <td>-1</td>\n",
       "      <td>3</td>\n",
       "      <td>4</td>\n",
       "      <td>63.4</td>\n",
       "      <td>57.0</td>\n",
       "      <td>4997</td>\n",
       "      <td>176.802840</td>\n",
       "    </tr>\n",
       "  </tbody>\n",
       "</table>\n",
       "</div>"
      ],
      "text/plain": [
       "   carat  cut  color  clarity  depth  table  price      volume\n",
       "0   1.21    1      0        3   63.0   57.0   6134  190.734930\n",
       "1   0.28    0     -1        0   64.0   56.0    532   45.921708\n",
       "2   0.42    2      1        1   61.2   58.0   1103   69.338592\n",
       "3   0.26    1      0       -2   61.1   57.0    600   43.362176\n",
       "4   1.10   -1      3        4   63.4   57.0   4997  176.802840"
      ]
     },
     "execution_count": 7,
     "metadata": {},
     "output_type": "execute_result"
    }
   ],
   "source": [
    "diamonds.head()"
   ]
  },
  {
   "cell_type": "markdown",
   "metadata": {},
   "source": [
    "# H2OAutoML:"
   ]
  },
  {
   "cell_type": "markdown",
   "metadata": {},
   "source": [
    "**Inicialize the h2o environment:**"
   ]
  },
  {
   "cell_type": "code",
   "execution_count": 8,
   "metadata": {},
   "outputs": [
    {
     "name": "stdout",
     "output_type": "stream",
     "text": [
      "Checking whether there is an H2O instance running at http://localhost:54321 ..... not found.\n",
      "Attempting to start a local H2O server...\n",
      "  Java Version: openjdk version \"1.8.0_252\"; OpenJDK Runtime Environment (AdoptOpenJDK)(build 1.8.0_252-b09); OpenJDK 64-Bit Server VM (AdoptOpenJDK)(build 25.252-b09, mixed mode)\n",
      "  Starting server from /usr/local/lib/python3.7/site-packages/h2o/backend/bin/h2o.jar\n",
      "  Ice root: /var/folders/1r/0z83blfn37n4310vb80zx8bh0000gn/T/tmpn587w9n5\n",
      "  JVM stdout: /var/folders/1r/0z83blfn37n4310vb80zx8bh0000gn/T/tmpn587w9n5/h2o_mugald_started_from_python.out\n",
      "  JVM stderr: /var/folders/1r/0z83blfn37n4310vb80zx8bh0000gn/T/tmpn587w9n5/h2o_mugald_started_from_python.err\n",
      "  Server is running at http://127.0.0.1:54323\n",
      "Connecting to H2O server at http://127.0.0.1:54323 ... successful.\n"
     ]
    },
    {
     "data": {
      "text/html": [
       "<div style=\"overflow:auto\"><table style=\"width:50%\"><tr><td>H2O_cluster_uptime:</td>\n",
       "<td>02 secs</td></tr>\n",
       "<tr><td>H2O_cluster_timezone:</td>\n",
       "<td>Europe/Madrid</td></tr>\n",
       "<tr><td>H2O_data_parsing_timezone:</td>\n",
       "<td>UTC</td></tr>\n",
       "<tr><td>H2O_cluster_version:</td>\n",
       "<td>3.30.0.2</td></tr>\n",
       "<tr><td>H2O_cluster_version_age:</td>\n",
       "<td>12 days </td></tr>\n",
       "<tr><td>H2O_cluster_name:</td>\n",
       "<td>H2O_from_python_mugald_ar86se</td></tr>\n",
       "<tr><td>H2O_cluster_total_nodes:</td>\n",
       "<td>1</td></tr>\n",
       "<tr><td>H2O_cluster_free_memory:</td>\n",
       "<td>23.11 Gb</td></tr>\n",
       "<tr><td>H2O_cluster_total_cores:</td>\n",
       "<td>8</td></tr>\n",
       "<tr><td>H2O_cluster_allowed_cores:</td>\n",
       "<td>8</td></tr>\n",
       "<tr><td>H2O_cluster_status:</td>\n",
       "<td>accepting new members, healthy</td></tr>\n",
       "<tr><td>H2O_connection_url:</td>\n",
       "<td>http://127.0.0.1:54323</td></tr>\n",
       "<tr><td>H2O_connection_proxy:</td>\n",
       "<td>{\"http\": null, \"https\": null}</td></tr>\n",
       "<tr><td>H2O_internal_security:</td>\n",
       "<td>False</td></tr>\n",
       "<tr><td>H2O_API_Extensions:</td>\n",
       "<td>Amazon S3, XGBoost, Algos, AutoML, Core V3, TargetEncoder, Core V4</td></tr>\n",
       "<tr><td>Python_version:</td>\n",
       "<td>3.7.7 final</td></tr></table></div>"
      ],
      "text/plain": [
       "--------------------------  ------------------------------------------------------------------\n",
       "H2O_cluster_uptime:         02 secs\n",
       "H2O_cluster_timezone:       Europe/Madrid\n",
       "H2O_data_parsing_timezone:  UTC\n",
       "H2O_cluster_version:        3.30.0.2\n",
       "H2O_cluster_version_age:    12 days\n",
       "H2O_cluster_name:           H2O_from_python_mugald_ar86se\n",
       "H2O_cluster_total_nodes:    1\n",
       "H2O_cluster_free_memory:    23.11 Gb\n",
       "H2O_cluster_total_cores:    8\n",
       "H2O_cluster_allowed_cores:  8\n",
       "H2O_cluster_status:         accepting new members, healthy\n",
       "H2O_connection_url:         http://127.0.0.1:54323\n",
       "H2O_connection_proxy:       {\"http\": null, \"https\": null}\n",
       "H2O_internal_security:      False\n",
       "H2O_API_Extensions:         Amazon S3, XGBoost, Algos, AutoML, Core V3, TargetEncoder, Core V4\n",
       "Python_version:             3.7.7 final\n",
       "--------------------------  ------------------------------------------------------------------"
      ]
     },
     "metadata": {},
     "output_type": "display_data"
    }
   ],
   "source": [
    "h2o.init(nthreads = -1, max_mem_size = 26)"
   ]
  },
  {
   "cell_type": "markdown",
   "metadata": {},
   "source": [
    "**Load the Pandas DF into h2o:**"
   ]
  },
  {
   "cell_type": "code",
   "execution_count": 9,
   "metadata": {},
   "outputs": [
    {
     "name": "stdout",
     "output_type": "stream",
     "text": [
      "Parse progress: |█████████████████████████████████████████████████████████| 100%\n"
     ]
    }
   ],
   "source": [
    "diamonds_h2o=h2o.H2OFrame(diamonds)"
   ]
  },
  {
   "cell_type": "code",
   "execution_count": 10,
   "metadata": {},
   "outputs": [
    {
     "data": {
      "text/html": [
       "<table>\n",
       "<thead>\n",
       "<tr><th style=\"text-align: right;\">  carat</th><th style=\"text-align: right;\">  cut</th><th style=\"text-align: right;\">  color</th><th style=\"text-align: right;\">  clarity</th><th style=\"text-align: right;\">  depth</th><th style=\"text-align: right;\">  table</th><th style=\"text-align: right;\">  price</th><th style=\"text-align: right;\">  volume</th></tr>\n",
       "</thead>\n",
       "<tbody>\n",
       "<tr><td style=\"text-align: right;\">   1.21</td><td style=\"text-align: right;\">    1</td><td style=\"text-align: right;\">      0</td><td style=\"text-align: right;\">        3</td><td style=\"text-align: right;\">   63  </td><td style=\"text-align: right;\">   57  </td><td style=\"text-align: right;\">   6134</td><td style=\"text-align: right;\">190.735 </td></tr>\n",
       "<tr><td style=\"text-align: right;\">   0.28</td><td style=\"text-align: right;\">    0</td><td style=\"text-align: right;\">     -1</td><td style=\"text-align: right;\">        0</td><td style=\"text-align: right;\">   64  </td><td style=\"text-align: right;\">   56  </td><td style=\"text-align: right;\">    532</td><td style=\"text-align: right;\"> 45.9217</td></tr>\n",
       "<tr><td style=\"text-align: right;\">   0.42</td><td style=\"text-align: right;\">    2</td><td style=\"text-align: right;\">      1</td><td style=\"text-align: right;\">        1</td><td style=\"text-align: right;\">   61.2</td><td style=\"text-align: right;\">   58  </td><td style=\"text-align: right;\">   1103</td><td style=\"text-align: right;\"> 69.3386</td></tr>\n",
       "<tr><td style=\"text-align: right;\">   0.26</td><td style=\"text-align: right;\">    1</td><td style=\"text-align: right;\">      0</td><td style=\"text-align: right;\">       -2</td><td style=\"text-align: right;\">   61.1</td><td style=\"text-align: right;\">   57  </td><td style=\"text-align: right;\">    600</td><td style=\"text-align: right;\"> 43.3622</td></tr>\n",
       "<tr><td style=\"text-align: right;\">   1.1 </td><td style=\"text-align: right;\">   -1</td><td style=\"text-align: right;\">      3</td><td style=\"text-align: right;\">        4</td><td style=\"text-align: right;\">   63.4</td><td style=\"text-align: right;\">   57  </td><td style=\"text-align: right;\">   4997</td><td style=\"text-align: right;\">176.803 </td></tr>\n",
       "<tr><td style=\"text-align: right;\">   0.35</td><td style=\"text-align: right;\">    1</td><td style=\"text-align: right;\">      1</td><td style=\"text-align: right;\">        4</td><td style=\"text-align: right;\">   62.2</td><td style=\"text-align: right;\">   56  </td><td style=\"text-align: right;\">    583</td><td style=\"text-align: right;\"> 56.6989</td></tr>\n",
       "<tr><td style=\"text-align: right;\">   0.31</td><td style=\"text-align: right;\">    1</td><td style=\"text-align: right;\">     -2</td><td style=\"text-align: right;\">        3</td><td style=\"text-align: right;\">   62.3</td><td style=\"text-align: right;\">   54  </td><td style=\"text-align: right;\">    452</td><td style=\"text-align: right;\"> 52.4924</td></tr>\n",
       "<tr><td style=\"text-align: right;\">   0.43</td><td style=\"text-align: right;\">    2</td><td style=\"text-align: right;\">      0</td><td style=\"text-align: right;\">        4</td><td style=\"text-align: right;\">   60.2</td><td style=\"text-align: right;\">   57  </td><td style=\"text-align: right;\">    919</td><td style=\"text-align: right;\"> 71.6506</td></tr>\n",
       "<tr><td style=\"text-align: right;\">   0.51</td><td style=\"text-align: right;\">    2</td><td style=\"text-align: right;\">     -2</td><td style=\"text-align: right;\">        2</td><td style=\"text-align: right;\">   60.4</td><td style=\"text-align: right;\">   59  </td><td style=\"text-align: right;\">    956</td><td style=\"text-align: right;\"> 84.1469</td></tr>\n",
       "<tr><td style=\"text-align: right;\">   1.22</td><td style=\"text-align: right;\">    1</td><td style=\"text-align: right;\">     -2</td><td style=\"text-align: right;\">        1</td><td style=\"text-align: right;\">   61.9</td><td style=\"text-align: right;\">   55.7</td><td style=\"text-align: right;\">   6469</td><td style=\"text-align: right;\">197.035 </td></tr>\n",
       "</tbody>\n",
       "</table>"
      ]
     },
     "metadata": {},
     "output_type": "display_data"
    },
    {
     "data": {
      "text/plain": []
     },
     "execution_count": 10,
     "metadata": {},
     "output_type": "execute_result"
    }
   ],
   "source": [
    "diamonds_h2o.head()"
   ]
  },
  {
   "cell_type": "code",
   "execution_count": 11,
   "metadata": {},
   "outputs": [],
   "source": [
    "X = [\"carat\",\"color\",\"cut\",\"clarity\",\"depth\"]\n",
    "y = \"price\""
   ]
  },
  {
   "cell_type": "code",
   "execution_count": 12,
   "metadata": {},
   "outputs": [],
   "source": [
    "train, test=diamonds_h2o.split_frame(ratios = [.8])\n",
    "X_train=train[X]\n",
    "y_train=train[y]\n",
    "X_test=test[X]\n",
    "y_test=test[y]"
   ]
  },
  {
   "cell_type": "code",
   "execution_count": 13,
   "metadata": {},
   "outputs": [
    {
     "name": "stdout",
     "output_type": "stream",
     "text": [
      "AutoML progress: |████████████████████████████████████████████████████████| 100%\n"
     ]
    },
    {
     "data": {
      "text/html": [
       "<table>\n",
       "<thead>\n",
       "<tr><th>model_id                                      </th><th style=\"text-align: right;\">  mean_residual_deviance</th><th style=\"text-align: right;\">   rmse</th><th style=\"text-align: right;\">   mse</th><th style=\"text-align: right;\">    mae</th><th style=\"text-align: right;\">     rmsle</th></tr>\n",
       "</thead>\n",
       "<tbody>\n",
       "<tr><td>GBM_5_AutoML_20200511_180243                  </td><td style=\"text-align: right;\">                  342203</td><td style=\"text-align: right;\">584.981</td><td style=\"text-align: right;\">342203</td><td style=\"text-align: right;\">301.81 </td><td style=\"text-align: right;\">  0.118862</td></tr>\n",
       "<tr><td>GBM_3_AutoML_20200511_180243                  </td><td style=\"text-align: right;\">                  342602</td><td style=\"text-align: right;\">585.323</td><td style=\"text-align: right;\">342602</td><td style=\"text-align: right;\">300.68 </td><td style=\"text-align: right;\">  0.1242  </td></tr>\n",
       "<tr><td>GBM_2_AutoML_20200511_180243                  </td><td style=\"text-align: right;\">                  345310</td><td style=\"text-align: right;\">587.631</td><td style=\"text-align: right;\">345310</td><td style=\"text-align: right;\">304.344</td><td style=\"text-align: right;\">  0.118995</td></tr>\n",
       "<tr><td>GBM_1_AutoML_20200511_180243                  </td><td style=\"text-align: right;\">                  346520</td><td style=\"text-align: right;\">588.66 </td><td style=\"text-align: right;\">346520</td><td style=\"text-align: right;\">304.319</td><td style=\"text-align: right;\">  0.113958</td></tr>\n",
       "<tr><td>GBM_4_AutoML_20200511_180243                  </td><td style=\"text-align: right;\">                  351224</td><td style=\"text-align: right;\">592.642</td><td style=\"text-align: right;\">351224</td><td style=\"text-align: right;\">308.688</td><td style=\"text-align: right;\">  0.134358</td></tr>\n",
       "<tr><td>XGBoost_3_AutoML_20200511_180243              </td><td style=\"text-align: right;\">                  366526</td><td style=\"text-align: right;\">605.414</td><td style=\"text-align: right;\">366526</td><td style=\"text-align: right;\">320.495</td><td style=\"text-align: right;\">  0.131779</td></tr>\n",
       "<tr><td>XGBoost_2_AutoML_20200511_180243              </td><td style=\"text-align: right;\">                  382882</td><td style=\"text-align: right;\">618.774</td><td style=\"text-align: right;\">382882</td><td style=\"text-align: right;\">330.066</td><td style=\"text-align: right;\">  0.140464</td></tr>\n",
       "<tr><td>GBM_grid__1_AutoML_20200511_180243_model_1    </td><td style=\"text-align: right;\">                  389386</td><td style=\"text-align: right;\">624.008</td><td style=\"text-align: right;\">389386</td><td style=\"text-align: right;\">322.893</td><td style=\"text-align: right;\">  0.126654</td></tr>\n",
       "<tr><td>XGBoost_grid__1_AutoML_20200511_180243_model_1</td><td style=\"text-align: right;\">                  432788</td><td style=\"text-align: right;\">657.866</td><td style=\"text-align: right;\">432788</td><td style=\"text-align: right;\">325.06 </td><td style=\"text-align: right;\">  0.115659</td></tr>\n",
       "<tr><td>XGBoost_1_AutoML_20200511_180243              </td><td style=\"text-align: right;\">                  459157</td><td style=\"text-align: right;\">677.612</td><td style=\"text-align: right;\">459157</td><td style=\"text-align: right;\">375.3  </td><td style=\"text-align: right;\">nan       </td></tr>\n",
       "</tbody>\n",
       "</table>"
      ]
     },
     "metadata": {},
     "output_type": "display_data"
    },
    {
     "data": {
      "text/plain": []
     },
     "execution_count": 13,
     "metadata": {},
     "output_type": "execute_result"
    }
   ],
   "source": [
    "modelH20 = H2OAutoML(max_runtime_secs=360,max_models= 15, seed= 1, nfolds=0)\n",
    "modelH20.train(x = X, y = y, training_frame = train, validation_frame=test)\n",
    "ld = modelH20.leaderboard\n",
    "ld"
   ]
  },
  {
   "cell_type": "code",
   "execution_count": 14,
   "metadata": {},
   "outputs": [
    {
     "name": "stdout",
     "output_type": "stream",
     "text": [
      "gbm prediction progress: |████████████████████████████████████████████████| 100%\n"
     ]
    },
    {
     "data": {
      "text/html": [
       "<table>\n",
       "<thead>\n",
       "<tr><th style=\"text-align: right;\">  predict</th></tr>\n",
       "</thead>\n",
       "<tbody>\n",
       "<tr><td style=\"text-align: right;\"> 1177.37 </td></tr>\n",
       "<tr><td style=\"text-align: right;\">  591.113</td></tr>\n",
       "<tr><td style=\"text-align: right;\"> 3507.28 </td></tr>\n",
       "<tr><td style=\"text-align: right;\"> 8422.26 </td></tr>\n",
       "<tr><td style=\"text-align: right;\"> 2519.45 </td></tr>\n",
       "<tr><td style=\"text-align: right;\"> 2272.95 </td></tr>\n",
       "<tr><td style=\"text-align: right;\"> 1543.72 </td></tr>\n",
       "<tr><td style=\"text-align: right;\"> 1769.22 </td></tr>\n",
       "<tr><td style=\"text-align: right;\">  934.169</td></tr>\n",
       "<tr><td style=\"text-align: right;\"> 6775.03 </td></tr>\n",
       "</tbody>\n",
       "</table>"
      ]
     },
     "metadata": {},
     "output_type": "display_data"
    },
    {
     "data": {
      "text/plain": []
     },
     "execution_count": 14,
     "metadata": {},
     "output_type": "execute_result"
    }
   ],
   "source": [
    "y_pred = modelH20.leader.predict(test)\n",
    "y_pred"
   ]
  },
  {
   "cell_type": "code",
   "execution_count": 15,
   "metadata": {},
   "outputs": [
    {
     "data": {
      "text/html": [
       "<table>\n",
       "<thead>\n",
       "<tr><th style=\"text-align: right;\">  price</th></tr>\n",
       "</thead>\n",
       "<tbody>\n",
       "<tr><td style=\"text-align: right;\">   1103</td></tr>\n",
       "<tr><td style=\"text-align: right;\">    600</td></tr>\n",
       "<tr><td style=\"text-align: right;\">   3856</td></tr>\n",
       "<tr><td style=\"text-align: right;\">   9760</td></tr>\n",
       "<tr><td style=\"text-align: right;\">   2557</td></tr>\n",
       "<tr><td style=\"text-align: right;\">   2384</td></tr>\n",
       "<tr><td style=\"text-align: right;\">   1436</td></tr>\n",
       "<tr><td style=\"text-align: right;\">   1755</td></tr>\n",
       "<tr><td style=\"text-align: right;\">   1123</td></tr>\n",
       "<tr><td style=\"text-align: right;\">   7632</td></tr>\n",
       "</tbody>\n",
       "</table>"
      ]
     },
     "metadata": {},
     "output_type": "display_data"
    },
    {
     "data": {
      "text/plain": []
     },
     "execution_count": 15,
     "metadata": {},
     "output_type": "execute_result"
    }
   ],
   "source": [
    "y_test"
   ]
  },
  {
   "cell_type": "markdown",
   "metadata": {},
   "source": [
    "# Test:"
   ]
  },
  {
   "cell_type": "code",
   "execution_count": 16,
   "metadata": {},
   "outputs": [
    {
     "data": {
      "text/html": [
       "<div>\n",
       "<style scoped>\n",
       "    .dataframe tbody tr th:only-of-type {\n",
       "        vertical-align: middle;\n",
       "    }\n",
       "\n",
       "    .dataframe tbody tr th {\n",
       "        vertical-align: top;\n",
       "    }\n",
       "\n",
       "    .dataframe thead th {\n",
       "        text-align: right;\n",
       "    }\n",
       "</style>\n",
       "<table border=\"1\" class=\"dataframe\">\n",
       "  <thead>\n",
       "    <tr style=\"text-align: right;\">\n",
       "      <th></th>\n",
       "      <th>Unnamed: 0</th>\n",
       "      <th>carat</th>\n",
       "      <th>cut</th>\n",
       "      <th>color</th>\n",
       "      <th>clarity</th>\n",
       "      <th>depth</th>\n",
       "      <th>table</th>\n",
       "      <th>x</th>\n",
       "      <th>y</th>\n",
       "      <th>z</th>\n",
       "    </tr>\n",
       "  </thead>\n",
       "  <tbody>\n",
       "    <tr>\n",
       "      <th>0</th>\n",
       "      <td>0</td>\n",
       "      <td>0.30</td>\n",
       "      <td>Ideal</td>\n",
       "      <td>H</td>\n",
       "      <td>SI2</td>\n",
       "      <td>60.0</td>\n",
       "      <td>56.0</td>\n",
       "      <td>4.41</td>\n",
       "      <td>4.43</td>\n",
       "      <td>2.65</td>\n",
       "    </tr>\n",
       "    <tr>\n",
       "      <th>1</th>\n",
       "      <td>1</td>\n",
       "      <td>0.34</td>\n",
       "      <td>Ideal</td>\n",
       "      <td>D</td>\n",
       "      <td>IF</td>\n",
       "      <td>62.1</td>\n",
       "      <td>57.0</td>\n",
       "      <td>4.52</td>\n",
       "      <td>4.46</td>\n",
       "      <td>2.79</td>\n",
       "    </tr>\n",
       "    <tr>\n",
       "      <th>2</th>\n",
       "      <td>2</td>\n",
       "      <td>1.57</td>\n",
       "      <td>Very Good</td>\n",
       "      <td>I</td>\n",
       "      <td>VS2</td>\n",
       "      <td>60.3</td>\n",
       "      <td>58.0</td>\n",
       "      <td>7.58</td>\n",
       "      <td>7.55</td>\n",
       "      <td>4.56</td>\n",
       "    </tr>\n",
       "    <tr>\n",
       "      <th>3</th>\n",
       "      <td>3</td>\n",
       "      <td>0.31</td>\n",
       "      <td>Ideal</td>\n",
       "      <td>H</td>\n",
       "      <td>VS2</td>\n",
       "      <td>61.8</td>\n",
       "      <td>57.0</td>\n",
       "      <td>4.32</td>\n",
       "      <td>4.36</td>\n",
       "      <td>2.68</td>\n",
       "    </tr>\n",
       "    <tr>\n",
       "      <th>4</th>\n",
       "      <td>4</td>\n",
       "      <td>1.51</td>\n",
       "      <td>Good</td>\n",
       "      <td>I</td>\n",
       "      <td>VVS1</td>\n",
       "      <td>64.0</td>\n",
       "      <td>60.0</td>\n",
       "      <td>7.26</td>\n",
       "      <td>7.21</td>\n",
       "      <td>4.63</td>\n",
       "    </tr>\n",
       "  </tbody>\n",
       "</table>\n",
       "</div>"
      ],
      "text/plain": [
       "   Unnamed: 0  carat        cut color clarity  depth  table     x     y     z\n",
       "0           0   0.30      Ideal     H     SI2   60.0   56.0  4.41  4.43  2.65\n",
       "1           1   0.34      Ideal     D      IF   62.1   57.0  4.52  4.46  2.79\n",
       "2           2   1.57  Very Good     I     VS2   60.3   58.0  7.58  7.55  4.56\n",
       "3           3   0.31      Ideal     H     VS2   61.8   57.0  4.32  4.36  2.68\n",
       "4           4   1.51       Good     I    VVS1   64.0   60.0  7.26  7.21  4.63"
      ]
     },
     "execution_count": 16,
     "metadata": {},
     "output_type": "execute_result"
    }
   ],
   "source": [
    "diamonds_test = pd.read_csv(\"../input_diamonds/diamonds_test.csv\")\n",
    "diamonds_test.head()"
   ]
  },
  {
   "cell_type": "code",
   "execution_count": 17,
   "metadata": {},
   "outputs": [],
   "source": [
    "diamonds_test[\"cut\"].replace([\"Premium\", \"Ideal\", \"Very Good\",\"Good\",\"Fair\"],[2,1,0,-1,-2],inplace=True)\n",
    "diamonds_test[\"color\"].replace([\"G\", \"E\", \"F\",\"H\",\"D\",\"I\",\"J\"],[3,2,1,0,-1,-2,-3],inplace=True)\n",
    "diamonds_test[\"clarity\"].replace([\"SI1\", \"VS2\", \"SI2\",\"VS1\",\"VVS2\",\"VVS1\",\"IF\",\"I1\"],[4,3,2,1,0,-1,-2,-3],inplace=True)"
   ]
  },
  {
   "cell_type": "code",
   "execution_count": 18,
   "metadata": {},
   "outputs": [],
   "source": [
    "diamonds_test[\"volume\"]=diamonds_test['x']*diamonds_test['y']*diamonds_test['z']"
   ]
  },
  {
   "cell_type": "code",
   "execution_count": 19,
   "metadata": {},
   "outputs": [],
   "source": [
    "diamonds_test.drop(['x','y','z','Unnamed: 0'],axis=1,inplace=True)"
   ]
  },
  {
   "cell_type": "code",
   "execution_count": 20,
   "metadata": {},
   "outputs": [
    {
     "name": "stdout",
     "output_type": "stream",
     "text": [
      "Parse progress: |█████████████████████████████████████████████████████████| 100%\n"
     ]
    }
   ],
   "source": [
    "diamonds_test_h2o=h2o.H2OFrame(diamonds_test)"
   ]
  },
  {
   "cell_type": "code",
   "execution_count": 21,
   "metadata": {},
   "outputs": [],
   "source": [
    "X=[\"carat\",\"color\",\"cut\",\"clarity\",\"depth\"]"
   ]
  },
  {
   "cell_type": "code",
   "execution_count": 22,
   "metadata": {},
   "outputs": [],
   "source": [
    "X_train=diamonds_test_h2o[X]"
   ]
  },
  {
   "cell_type": "code",
   "execution_count": 23,
   "metadata": {},
   "outputs": [
    {
     "name": "stdout",
     "output_type": "stream",
     "text": [
      "gbm prediction progress: |████████████████████████████████████████████████| 100%\n"
     ]
    }
   ],
   "source": [
    "price_pred = modelH20.leader.predict(X_train)"
   ]
  },
  {
   "cell_type": "code",
   "execution_count": 24,
   "metadata": {},
   "outputs": [
    {
     "data": {
      "text/html": [
       "<table>\n",
       "<thead>\n",
       "<tr><th style=\"text-align: right;\">  predict</th></tr>\n",
       "</thead>\n",
       "<tbody>\n",
       "<tr><td style=\"text-align: right;\">  388.682</td></tr>\n",
       "<tr><td style=\"text-align: right;\"> 1831.02 </td></tr>\n",
       "<tr><td style=\"text-align: right;\"> 9704.49 </td></tr>\n",
       "<tr><td style=\"text-align: right;\">  667.435</td></tr>\n",
       "<tr><td style=\"text-align: right;\"> 9971.83 </td></tr>\n",
       "<tr><td style=\"text-align: right;\"> 2481.62 </td></tr>\n",
       "<tr><td style=\"text-align: right;\">  996.971</td></tr>\n",
       "<tr><td style=\"text-align: right;\">10223.2  </td></tr>\n",
       "<tr><td style=\"text-align: right;\">  806.786</td></tr>\n",
       "<tr><td style=\"text-align: right;\">  480.152</td></tr>\n",
       "</tbody>\n",
       "</table>"
      ]
     },
     "metadata": {},
     "output_type": "display_data"
    },
    {
     "data": {
      "text/plain": []
     },
     "execution_count": 24,
     "metadata": {},
     "output_type": "execute_result"
    }
   ],
   "source": [
    "price_pred"
   ]
  },
  {
   "cell_type": "code",
   "execution_count": 25,
   "metadata": {},
   "outputs": [],
   "source": [
    "df_price = price_pred.as_data_frame()\n",
    "df_price.rename(columns={\"predict\": \"price\"}, inplace=True)\n",
    "df_price[\"price\"] = df_price.price.astype(int)"
   ]
  },
  {
   "cell_type": "code",
   "execution_count": 26,
   "metadata": {},
   "outputs": [
    {
     "data": {
      "text/html": [
       "<div>\n",
       "<style scoped>\n",
       "    .dataframe tbody tr th:only-of-type {\n",
       "        vertical-align: middle;\n",
       "    }\n",
       "\n",
       "    .dataframe tbody tr th {\n",
       "        vertical-align: top;\n",
       "    }\n",
       "\n",
       "    .dataframe thead th {\n",
       "        text-align: right;\n",
       "    }\n",
       "</style>\n",
       "<table border=\"1\" class=\"dataframe\">\n",
       "  <thead>\n",
       "    <tr style=\"text-align: right;\">\n",
       "      <th></th>\n",
       "      <th>price</th>\n",
       "    </tr>\n",
       "    <tr>\n",
       "      <th>id</th>\n",
       "      <th></th>\n",
       "    </tr>\n",
       "  </thead>\n",
       "  <tbody>\n",
       "    <tr>\n",
       "      <th>0</th>\n",
       "      <td>388</td>\n",
       "    </tr>\n",
       "    <tr>\n",
       "      <th>1</th>\n",
       "      <td>1831</td>\n",
       "    </tr>\n",
       "    <tr>\n",
       "      <th>2</th>\n",
       "      <td>9704</td>\n",
       "    </tr>\n",
       "    <tr>\n",
       "      <th>3</th>\n",
       "      <td>667</td>\n",
       "    </tr>\n",
       "    <tr>\n",
       "      <th>4</th>\n",
       "      <td>9971</td>\n",
       "    </tr>\n",
       "    <tr>\n",
       "      <th>...</th>\n",
       "      <td>...</td>\n",
       "    </tr>\n",
       "    <tr>\n",
       "      <th>13444</th>\n",
       "      <td>4759</td>\n",
       "    </tr>\n",
       "    <tr>\n",
       "      <th>13445</th>\n",
       "      <td>520</td>\n",
       "    </tr>\n",
       "    <tr>\n",
       "      <th>13446</th>\n",
       "      <td>14130</td>\n",
       "    </tr>\n",
       "    <tr>\n",
       "      <th>13447</th>\n",
       "      <td>10786</td>\n",
       "    </tr>\n",
       "    <tr>\n",
       "      <th>13448</th>\n",
       "      <td>792</td>\n",
       "    </tr>\n",
       "  </tbody>\n",
       "</table>\n",
       "<p>13449 rows × 1 columns</p>\n",
       "</div>"
      ],
      "text/plain": [
       "       price\n",
       "id          \n",
       "0        388\n",
       "1       1831\n",
       "2       9704\n",
       "3        667\n",
       "4       9971\n",
       "...      ...\n",
       "13444   4759\n",
       "13445    520\n",
       "13446  14130\n",
       "13447  10786\n",
       "13448    792\n",
       "\n",
       "[13449 rows x 1 columns]"
      ]
     },
     "execution_count": 26,
     "metadata": {},
     "output_type": "execute_result"
    }
   ],
   "source": [
    "df_price.index.rename('id', inplace=True)\n",
    "df_price"
   ]
  },
  {
   "cell_type": "code",
   "execution_count": 27,
   "metadata": {},
   "outputs": [],
   "source": [
    "#df_price.to_csv(\"./output/test10.csv\")"
   ]
  },
  {
   "cell_type": "markdown",
   "metadata": {},
   "source": [
    "# H2O XGBoost Estimator:"
   ]
  },
  {
   "cell_type": "code",
   "execution_count": 43,
   "metadata": {},
   "outputs": [
    {
     "name": "stdout",
     "output_type": "stream",
     "text": [
      "xgboost Model Build progress: |███████████████████████████████████████████| 100%\n",
      "xgboost prediction progress: |████████████████████████████████████████████| 100%\n",
      "Model Details\n",
      "=============\n",
      "H2OXGBoostEstimator :  XGBoost\n",
      "Model Key:  XGBoost_model_python_1589212956477_3\n",
      "\n",
      "\n",
      "Model Summary: \n"
     ]
    },
    {
     "data": {
      "text/html": [
       "<div>\n",
       "<style scoped>\n",
       "    .dataframe tbody tr th:only-of-type {\n",
       "        vertical-align: middle;\n",
       "    }\n",
       "\n",
       "    .dataframe tbody tr th {\n",
       "        vertical-align: top;\n",
       "    }\n",
       "\n",
       "    .dataframe thead th {\n",
       "        text-align: right;\n",
       "    }\n",
       "</style>\n",
       "<table border=\"1\" class=\"dataframe\">\n",
       "  <thead>\n",
       "    <tr style=\"text-align: right;\">\n",
       "      <th></th>\n",
       "      <th></th>\n",
       "      <th>number_of_trees</th>\n",
       "    </tr>\n",
       "  </thead>\n",
       "  <tbody>\n",
       "    <tr>\n",
       "      <th>0</th>\n",
       "      <td></td>\n",
       "      <td>50.0</td>\n",
       "    </tr>\n",
       "  </tbody>\n",
       "</table>\n",
       "</div>"
      ],
      "text/plain": [
       "     number_of_trees\n",
       "0               50.0"
      ]
     },
     "metadata": {},
     "output_type": "display_data"
    },
    {
     "name": "stdout",
     "output_type": "stream",
     "text": [
      "\n",
      "\n",
      "ModelMetricsRegression: xgboost\n",
      "** Reported on train data. **\n",
      "\n",
      "MSE: 207599.8862664702\n",
      "RMSE: 455.631305187067\n",
      "MAE: 255.04833810484993\n",
      "RMSLE: 0.10163975567735312\n",
      "Mean Residual Deviance: 207599.8862664702\n",
      "\n",
      "Scoring History: \n"
     ]
    },
    {
     "data": {
      "text/html": [
       "<div>\n",
       "<style scoped>\n",
       "    .dataframe tbody tr th:only-of-type {\n",
       "        vertical-align: middle;\n",
       "    }\n",
       "\n",
       "    .dataframe tbody tr th {\n",
       "        vertical-align: top;\n",
       "    }\n",
       "\n",
       "    .dataframe thead th {\n",
       "        text-align: right;\n",
       "    }\n",
       "</style>\n",
       "<table border=\"1\" class=\"dataframe\">\n",
       "  <thead>\n",
       "    <tr style=\"text-align: right;\">\n",
       "      <th></th>\n",
       "      <th></th>\n",
       "      <th>timestamp</th>\n",
       "      <th>duration</th>\n",
       "      <th>number_of_trees</th>\n",
       "      <th>training_rmse</th>\n",
       "      <th>training_mae</th>\n",
       "      <th>training_deviance</th>\n",
       "    </tr>\n",
       "  </thead>\n",
       "  <tbody>\n",
       "    <tr>\n",
       "      <th>0</th>\n",
       "      <td></td>\n",
       "      <td>2020-05-11 18:16:02</td>\n",
       "      <td>0.054 sec</td>\n",
       "      <td>0.0</td>\n",
       "      <td>5581.201814</td>\n",
       "      <td>3920.142396</td>\n",
       "      <td>3.114981e+07</td>\n",
       "    </tr>\n",
       "    <tr>\n",
       "      <th>1</th>\n",
       "      <td></td>\n",
       "      <td>2020-05-11 18:16:02</td>\n",
       "      <td>0.215 sec</td>\n",
       "      <td>1.0</td>\n",
       "      <td>3973.257200</td>\n",
       "      <td>2746.665473</td>\n",
       "      <td>1.578677e+07</td>\n",
       "    </tr>\n",
       "    <tr>\n",
       "      <th>2</th>\n",
       "      <td></td>\n",
       "      <td>2020-05-11 18:16:02</td>\n",
       "      <td>0.333 sec</td>\n",
       "      <td>2.0</td>\n",
       "      <td>2861.384409</td>\n",
       "      <td>1924.763443</td>\n",
       "      <td>8.187521e+06</td>\n",
       "    </tr>\n",
       "    <tr>\n",
       "      <th>3</th>\n",
       "      <td></td>\n",
       "      <td>2020-05-11 18:16:02</td>\n",
       "      <td>0.421 sec</td>\n",
       "      <td>3.0</td>\n",
       "      <td>2094.283731</td>\n",
       "      <td>1352.855003</td>\n",
       "      <td>4.386024e+06</td>\n",
       "    </tr>\n",
       "    <tr>\n",
       "      <th>4</th>\n",
       "      <td></td>\n",
       "      <td>2020-05-11 18:16:02</td>\n",
       "      <td>0.502 sec</td>\n",
       "      <td>4.0</td>\n",
       "      <td>1570.925924</td>\n",
       "      <td>965.197951</td>\n",
       "      <td>2.467808e+06</td>\n",
       "    </tr>\n",
       "    <tr>\n",
       "      <th>5</th>\n",
       "      <td></td>\n",
       "      <td>2020-05-11 18:16:02</td>\n",
       "      <td>0.575 sec</td>\n",
       "      <td>5.0</td>\n",
       "      <td>1228.444444</td>\n",
       "      <td>717.580720</td>\n",
       "      <td>1.509076e+06</td>\n",
       "    </tr>\n",
       "    <tr>\n",
       "      <th>6</th>\n",
       "      <td></td>\n",
       "      <td>2020-05-11 18:16:02</td>\n",
       "      <td>0.642 sec</td>\n",
       "      <td>6.0</td>\n",
       "      <td>994.401085</td>\n",
       "      <td>565.218136</td>\n",
       "      <td>9.888335e+05</td>\n",
       "    </tr>\n",
       "    <tr>\n",
       "      <th>7</th>\n",
       "      <td></td>\n",
       "      <td>2020-05-11 18:16:02</td>\n",
       "      <td>0.710 sec</td>\n",
       "      <td>7.0</td>\n",
       "      <td>854.999942</td>\n",
       "      <td>476.808620</td>\n",
       "      <td>7.310249e+05</td>\n",
       "    </tr>\n",
       "    <tr>\n",
       "      <th>8</th>\n",
       "      <td></td>\n",
       "      <td>2020-05-11 18:16:03</td>\n",
       "      <td>0.779 sec</td>\n",
       "      <td>8.0</td>\n",
       "      <td>756.727363</td>\n",
       "      <td>416.935908</td>\n",
       "      <td>5.726363e+05</td>\n",
       "    </tr>\n",
       "    <tr>\n",
       "      <th>9</th>\n",
       "      <td></td>\n",
       "      <td>2020-05-11 18:16:03</td>\n",
       "      <td>0.842 sec</td>\n",
       "      <td>9.0</td>\n",
       "      <td>694.073577</td>\n",
       "      <td>380.352681</td>\n",
       "      <td>4.817381e+05</td>\n",
       "    </tr>\n",
       "    <tr>\n",
       "      <th>10</th>\n",
       "      <td></td>\n",
       "      <td>2020-05-11 18:16:03</td>\n",
       "      <td>0.920 sec</td>\n",
       "      <td>10.0</td>\n",
       "      <td>658.002128</td>\n",
       "      <td>359.231464</td>\n",
       "      <td>4.329668e+05</td>\n",
       "    </tr>\n",
       "    <tr>\n",
       "      <th>11</th>\n",
       "      <td></td>\n",
       "      <td>2020-05-11 18:16:03</td>\n",
       "      <td>1.038 sec</td>\n",
       "      <td>11.0</td>\n",
       "      <td>620.272527</td>\n",
       "      <td>339.818478</td>\n",
       "      <td>3.847380e+05</td>\n",
       "    </tr>\n",
       "    <tr>\n",
       "      <th>12</th>\n",
       "      <td></td>\n",
       "      <td>2020-05-11 18:16:03</td>\n",
       "      <td>1.143 sec</td>\n",
       "      <td>12.0</td>\n",
       "      <td>595.252775</td>\n",
       "      <td>324.663549</td>\n",
       "      <td>3.543259e+05</td>\n",
       "    </tr>\n",
       "    <tr>\n",
       "      <th>13</th>\n",
       "      <td></td>\n",
       "      <td>2020-05-11 18:16:03</td>\n",
       "      <td>1.236 sec</td>\n",
       "      <td>13.0</td>\n",
       "      <td>578.921019</td>\n",
       "      <td>316.112301</td>\n",
       "      <td>3.351495e+05</td>\n",
       "    </tr>\n",
       "    <tr>\n",
       "      <th>14</th>\n",
       "      <td></td>\n",
       "      <td>2020-05-11 18:16:03</td>\n",
       "      <td>1.379 sec</td>\n",
       "      <td>14.0</td>\n",
       "      <td>569.966374</td>\n",
       "      <td>310.615165</td>\n",
       "      <td>3.248617e+05</td>\n",
       "    </tr>\n",
       "    <tr>\n",
       "      <th>15</th>\n",
       "      <td></td>\n",
       "      <td>2020-05-11 18:16:03</td>\n",
       "      <td>1.501 sec</td>\n",
       "      <td>15.0</td>\n",
       "      <td>560.005297</td>\n",
       "      <td>305.917810</td>\n",
       "      <td>3.136059e+05</td>\n",
       "    </tr>\n",
       "    <tr>\n",
       "      <th>16</th>\n",
       "      <td></td>\n",
       "      <td>2020-05-11 18:16:03</td>\n",
       "      <td>1.601 sec</td>\n",
       "      <td>16.0</td>\n",
       "      <td>551.632094</td>\n",
       "      <td>300.740957</td>\n",
       "      <td>3.042980e+05</td>\n",
       "    </tr>\n",
       "    <tr>\n",
       "      <th>17</th>\n",
       "      <td></td>\n",
       "      <td>2020-05-11 18:16:03</td>\n",
       "      <td>1.702 sec</td>\n",
       "      <td>17.0</td>\n",
       "      <td>545.801085</td>\n",
       "      <td>297.866489</td>\n",
       "      <td>2.978988e+05</td>\n",
       "    </tr>\n",
       "    <tr>\n",
       "      <th>18</th>\n",
       "      <td></td>\n",
       "      <td>2020-05-11 18:16:04</td>\n",
       "      <td>1.872 sec</td>\n",
       "      <td>18.0</td>\n",
       "      <td>539.410985</td>\n",
       "      <td>294.308004</td>\n",
       "      <td>2.909642e+05</td>\n",
       "    </tr>\n",
       "    <tr>\n",
       "      <th>19</th>\n",
       "      <td></td>\n",
       "      <td>2020-05-11 18:16:04</td>\n",
       "      <td>1.972 sec</td>\n",
       "      <td>19.0</td>\n",
       "      <td>535.559756</td>\n",
       "      <td>292.514294</td>\n",
       "      <td>2.868243e+05</td>\n",
       "    </tr>\n",
       "  </tbody>\n",
       "</table>\n",
       "</div>"
      ],
      "text/plain": [
       "                timestamp    duration  number_of_trees  training_rmse  \\\n",
       "0     2020-05-11 18:16:02   0.054 sec              0.0    5581.201814   \n",
       "1     2020-05-11 18:16:02   0.215 sec              1.0    3973.257200   \n",
       "2     2020-05-11 18:16:02   0.333 sec              2.0    2861.384409   \n",
       "3     2020-05-11 18:16:02   0.421 sec              3.0    2094.283731   \n",
       "4     2020-05-11 18:16:02   0.502 sec              4.0    1570.925924   \n",
       "5     2020-05-11 18:16:02   0.575 sec              5.0    1228.444444   \n",
       "6     2020-05-11 18:16:02   0.642 sec              6.0     994.401085   \n",
       "7     2020-05-11 18:16:02   0.710 sec              7.0     854.999942   \n",
       "8     2020-05-11 18:16:03   0.779 sec              8.0     756.727363   \n",
       "9     2020-05-11 18:16:03   0.842 sec              9.0     694.073577   \n",
       "10    2020-05-11 18:16:03   0.920 sec             10.0     658.002128   \n",
       "11    2020-05-11 18:16:03   1.038 sec             11.0     620.272527   \n",
       "12    2020-05-11 18:16:03   1.143 sec             12.0     595.252775   \n",
       "13    2020-05-11 18:16:03   1.236 sec             13.0     578.921019   \n",
       "14    2020-05-11 18:16:03   1.379 sec             14.0     569.966374   \n",
       "15    2020-05-11 18:16:03   1.501 sec             15.0     560.005297   \n",
       "16    2020-05-11 18:16:03   1.601 sec             16.0     551.632094   \n",
       "17    2020-05-11 18:16:03   1.702 sec             17.0     545.801085   \n",
       "18    2020-05-11 18:16:04   1.872 sec             18.0     539.410985   \n",
       "19    2020-05-11 18:16:04   1.972 sec             19.0     535.559756   \n",
       "\n",
       "    training_mae  training_deviance  \n",
       "0    3920.142396       3.114981e+07  \n",
       "1    2746.665473       1.578677e+07  \n",
       "2    1924.763443       8.187521e+06  \n",
       "3    1352.855003       4.386024e+06  \n",
       "4     965.197951       2.467808e+06  \n",
       "5     717.580720       1.509076e+06  \n",
       "6     565.218136       9.888335e+05  \n",
       "7     476.808620       7.310249e+05  \n",
       "8     416.935908       5.726363e+05  \n",
       "9     380.352681       4.817381e+05  \n",
       "10    359.231464       4.329668e+05  \n",
       "11    339.818478       3.847380e+05  \n",
       "12    324.663549       3.543259e+05  \n",
       "13    316.112301       3.351495e+05  \n",
       "14    310.615165       3.248617e+05  \n",
       "15    305.917810       3.136059e+05  \n",
       "16    300.740957       3.042980e+05  \n",
       "17    297.866489       2.978988e+05  \n",
       "18    294.308004       2.909642e+05  \n",
       "19    292.514294       2.868243e+05  "
      ]
     },
     "metadata": {},
     "output_type": "display_data"
    },
    {
     "name": "stdout",
     "output_type": "stream",
     "text": [
      "\n",
      "See the whole table with table.as_data_frame()\n",
      "\n",
      "Variable Importances: \n"
     ]
    },
    {
     "data": {
      "text/html": [
       "<div>\n",
       "<style scoped>\n",
       "    .dataframe tbody tr th:only-of-type {\n",
       "        vertical-align: middle;\n",
       "    }\n",
       "\n",
       "    .dataframe tbody tr th {\n",
       "        vertical-align: top;\n",
       "    }\n",
       "\n",
       "    .dataframe thead th {\n",
       "        text-align: right;\n",
       "    }\n",
       "</style>\n",
       "<table border=\"1\" class=\"dataframe\">\n",
       "  <thead>\n",
       "    <tr style=\"text-align: right;\">\n",
       "      <th></th>\n",
       "      <th>variable</th>\n",
       "      <th>relative_importance</th>\n",
       "      <th>scaled_importance</th>\n",
       "      <th>percentage</th>\n",
       "    </tr>\n",
       "  </thead>\n",
       "  <tbody>\n",
       "    <tr>\n",
       "      <th>0</th>\n",
       "      <td>carat</td>\n",
       "      <td>8.786266e+11</td>\n",
       "      <td>1.000000</td>\n",
       "      <td>0.894820</td>\n",
       "    </tr>\n",
       "    <tr>\n",
       "      <th>1</th>\n",
       "      <td>clarity</td>\n",
       "      <td>6.868364e+10</td>\n",
       "      <td>0.078172</td>\n",
       "      <td>0.069950</td>\n",
       "    </tr>\n",
       "    <tr>\n",
       "      <th>2</th>\n",
       "      <td>color</td>\n",
       "      <td>2.908361e+10</td>\n",
       "      <td>0.033101</td>\n",
       "      <td>0.029620</td>\n",
       "    </tr>\n",
       "    <tr>\n",
       "      <th>3</th>\n",
       "      <td>cut</td>\n",
       "      <td>2.855465e+09</td>\n",
       "      <td>0.003250</td>\n",
       "      <td>0.002908</td>\n",
       "    </tr>\n",
       "    <tr>\n",
       "      <th>4</th>\n",
       "      <td>depth</td>\n",
       "      <td>2.653803e+09</td>\n",
       "      <td>0.003020</td>\n",
       "      <td>0.002703</td>\n",
       "    </tr>\n",
       "  </tbody>\n",
       "</table>\n",
       "</div>"
      ],
      "text/plain": [
       "  variable  relative_importance  scaled_importance  percentage\n",
       "0    carat         8.786266e+11           1.000000    0.894820\n",
       "1  clarity         6.868364e+10           0.078172    0.069950\n",
       "2    color         2.908361e+10           0.033101    0.029620\n",
       "3      cut         2.855465e+09           0.003250    0.002908\n",
       "4    depth         2.653803e+09           0.003020    0.002703"
      ]
     },
     "metadata": {},
     "output_type": "display_data"
    },
    {
     "data": {
      "text/plain": []
     },
     "execution_count": 43,
     "metadata": {},
     "output_type": "execute_result"
    }
   ],
   "source": [
    "modelXG = H2OXGBoostEstimator()\n",
    "modelXG.train(x=X, y=y, training_frame=train)\n",
    "y_pred2 = modelXG.predict(test)\n",
    "modelXG"
   ]
  },
  {
   "cell_type": "code",
   "execution_count": 44,
   "metadata": {},
   "outputs": [
    {
     "name": "stdout",
     "output_type": "stream",
     "text": [
      "Parse progress: |█████████████████████████████████████████████████████████| 100%\n"
     ]
    }
   ],
   "source": [
    "diamonds_test_xg=h2o.H2OFrame(diamonds_test)"
   ]
  },
  {
   "cell_type": "code",
   "execution_count": 45,
   "metadata": {},
   "outputs": [],
   "source": [
    "X=[\"carat\",\"color\",\"cut\",\"clarity\",\"depth\"]"
   ]
  },
  {
   "cell_type": "code",
   "execution_count": 46,
   "metadata": {},
   "outputs": [],
   "source": [
    "X_train=diamonds_test_xg[X]"
   ]
  },
  {
   "cell_type": "code",
   "execution_count": 47,
   "metadata": {},
   "outputs": [
    {
     "name": "stdout",
     "output_type": "stream",
     "text": [
      "xgboost prediction progress: |████████████████████████████████████████████| 100%\n"
     ]
    }
   ],
   "source": [
    "price_pred2 = modelXG.predict(X_train)\n"
   ]
  },
  {
   "cell_type": "code",
   "execution_count": 48,
   "metadata": {},
   "outputs": [],
   "source": [
    "df_price2 = price_pred.as_data_frame()\n",
    "df_price2.rename(columns={\"predict\": \"price\"}, inplace=True)\n",
    "df_price2[\"price\"] = df_price2.price.astype(int)"
   ]
  },
  {
   "cell_type": "code",
   "execution_count": 49,
   "metadata": {},
   "outputs": [
    {
     "data": {
      "text/html": [
       "<div>\n",
       "<style scoped>\n",
       "    .dataframe tbody tr th:only-of-type {\n",
       "        vertical-align: middle;\n",
       "    }\n",
       "\n",
       "    .dataframe tbody tr th {\n",
       "        vertical-align: top;\n",
       "    }\n",
       "\n",
       "    .dataframe thead th {\n",
       "        text-align: right;\n",
       "    }\n",
       "</style>\n",
       "<table border=\"1\" class=\"dataframe\">\n",
       "  <thead>\n",
       "    <tr style=\"text-align: right;\">\n",
       "      <th></th>\n",
       "      <th>price</th>\n",
       "    </tr>\n",
       "    <tr>\n",
       "      <th>id</th>\n",
       "      <th></th>\n",
       "    </tr>\n",
       "  </thead>\n",
       "  <tbody>\n",
       "    <tr>\n",
       "      <th>0</th>\n",
       "      <td>363</td>\n",
       "    </tr>\n",
       "    <tr>\n",
       "      <th>1</th>\n",
       "      <td>1574</td>\n",
       "    </tr>\n",
       "    <tr>\n",
       "      <th>2</th>\n",
       "      <td>9760</td>\n",
       "    </tr>\n",
       "    <tr>\n",
       "      <th>3</th>\n",
       "      <td>586</td>\n",
       "    </tr>\n",
       "    <tr>\n",
       "      <th>4</th>\n",
       "      <td>9794</td>\n",
       "    </tr>\n",
       "    <tr>\n",
       "      <th>...</th>\n",
       "      <td>...</td>\n",
       "    </tr>\n",
       "    <tr>\n",
       "      <th>13444</th>\n",
       "      <td>4684</td>\n",
       "    </tr>\n",
       "    <tr>\n",
       "      <th>13445</th>\n",
       "      <td>408</td>\n",
       "    </tr>\n",
       "    <tr>\n",
       "      <th>13446</th>\n",
       "      <td>14455</td>\n",
       "    </tr>\n",
       "    <tr>\n",
       "      <th>13447</th>\n",
       "      <td>10377</td>\n",
       "    </tr>\n",
       "    <tr>\n",
       "      <th>13448</th>\n",
       "      <td>783</td>\n",
       "    </tr>\n",
       "  </tbody>\n",
       "</table>\n",
       "<p>13449 rows × 1 columns</p>\n",
       "</div>"
      ],
      "text/plain": [
       "       price\n",
       "id          \n",
       "0        363\n",
       "1       1574\n",
       "2       9760\n",
       "3        586\n",
       "4       9794\n",
       "...      ...\n",
       "13444   4684\n",
       "13445    408\n",
       "13446  14455\n",
       "13447  10377\n",
       "13448    783\n",
       "\n",
       "[13449 rows x 1 columns]"
      ]
     },
     "execution_count": 49,
     "metadata": {},
     "output_type": "execute_result"
    }
   ],
   "source": [
    "df_price.index.rename('id', inplace=True)\n",
    "df_price"
   ]
  },
  {
   "cell_type": "code",
   "execution_count": 51,
   "metadata": {},
   "outputs": [],
   "source": [
    "df_price.to_csv(\"./output/test11.csv\")"
   ]
  }
 ],
 "metadata": {
  "kernelspec": {
   "display_name": "Python 3",
   "language": "python",
   "name": "python3"
  },
  "language_info": {
   "codemirror_mode": {
    "name": "ipython",
    "version": 3
   },
   "file_extension": ".py",
   "mimetype": "text/x-python",
   "name": "python",
   "nbconvert_exporter": "python",
   "pygments_lexer": "ipython3",
   "version": "3.7.7"
  }
 },
 "nbformat": 4,
 "nbformat_minor": 4
}
